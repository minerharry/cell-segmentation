{
 "cells": [
  {
   "cell_type": "markdown",
   "metadata": {
    "id": "view-in-github"
   },
   "source": [
    "<a href=\"https://colab.research.google.com/github/samuramirez/cellmigration/blob/master/segmentation_1_class_cell_indiv_tiff.ipynb\" target=\"_parent\"><img src=\"https://colab.research.google.com/assets/colab-badge.svg\" alt=\"Open In Colab\"/></a>"
   ]
  },
  {
   "cell_type": "markdown",
   "metadata": {
    "id": "8XWeD-32AStD",
    "tags": []
   },
   "source": [
    "# Segmentation one class (cell)"
   ]
  },
  {
   "cell_type": "markdown",
   "metadata": {
    "id": "yJZxsReQegXy",
    "tags": []
   },
   "source": [
    "### Mount Google Drive (Colab can see Drive files) and authenticate so that we can interact with GCP via SDK"
   ]
  },
  {
   "cell_type": "code",
   "execution_count": 1,
   "metadata": {
    "colab": {
     "base_uri": "https://localhost:8080/",
     "height": 347
    },
    "id": "U7feFl68g6fj",
    "outputId": "d7212f4f-e42d-4136-dd00-730429cc166d",
    "tags": []
   },
   "outputs": [
    {
     "name": "stdout",
     "output_type": "stream",
     "text": [
      "No module named 'google.cloud'\n",
      "error: no credentials, ignoring\n"
     ]
    }
   ],
   "source": [
    "try:\n",
    "  from google.cloud import storage\n",
    "  client = storage.Client();\n",
    "except Exception as e:\n",
    "  print(e)\n",
    "  print(\"error: no credentials, ignoring\");"
   ]
  },
  {
   "cell_type": "markdown",
   "metadata": {
    "id": "MvFx9gc8x_t8",
    "tags": []
   },
   "source": [
    "### Installing and loading packages "
   ]
  },
  {
   "cell_type": "code",
   "execution_count": 2,
   "metadata": {
    "id": "TClA_sMuQ6dV"
   },
   "outputs": [],
   "source": [
    "#!nvidia-smi"
   ]
  },
  {
   "cell_type": "code",
   "execution_count": 3,
   "metadata": {
    "id": "prkUN4o0Q6dX"
   },
   "outputs": [],
   "source": [
    "import pandas as pd\n",
    "#pip install --upgrade pandas"
   ]
  },
  {
   "cell_type": "code",
   "execution_count": 4,
   "metadata": {
    "colab": {
     "base_uri": "https://localhost:8080/",
     "height": 36
    },
    "id": "A50t4XWyQ6dY",
    "outputId": "db5bdd5e-2053-418b-a47d-d6b22115a06c"
   },
   "outputs": [
    {
     "data": {
      "text/plain": [
       "'2.2.3'"
      ]
     },
     "execution_count": 4,
     "metadata": {},
     "output_type": "execute_result"
    }
   ],
   "source": [
    "pd.__version__"
   ]
  },
  {
   "cell_type": "code",
   "execution_count": 5,
   "metadata": {
    "colab": {
     "base_uri": "https://localhost:8080/"
    },
    "id": "1GbjKGbSQ6dc",
    "outputId": "f33fc421-ab16-4800-840c-f641640cc611"
   },
   "outputs": [
    {
     "name": "stdout",
     "output_type": "stream",
     "text": [
      "2.6.0+cu126\n"
     ]
    }
   ],
   "source": [
    "import torch\n",
    "import torchvision\n",
    "print(torch.__version__)\n"
   ]
  },
  {
   "cell_type": "code",
   "execution_count": 6,
   "metadata": {
    "colab": {
     "base_uri": "https://localhost:8080/"
    },
    "id": "PwFeUNMrQ6dd",
    "outputId": "7de2618c-8b05-48ca-8222-156f68864231"
   },
   "outputs": [
    {
     "name": "stdout",
     "output_type": "stream",
     "text": [
      "12.6\n"
     ]
    }
   ],
   "source": [
    "print(torch.version.cuda)"
   ]
  },
  {
   "cell_type": "code",
   "execution_count": 7,
   "metadata": {
    "colab": {
     "base_uri": "https://localhost:8080/"
    },
    "id": "WscEEK3JQ6df",
    "outputId": "7b2f09a1-a59f-42cf-87e5-eb52c7d99032"
   },
   "outputs": [
    {
     "data": {
      "text/plain": [
       "True"
      ]
     },
     "execution_count": 7,
     "metadata": {},
     "output_type": "execute_result"
    }
   ],
   "source": [
    "torch.cuda.is_available()"
   ]
  },
  {
   "cell_type": "code",
   "execution_count": 8,
   "metadata": {
    "id": "k7CCsb5OQ6dg"
   },
   "outputs": [],
   "source": [
    "#torch.cuda.get_device_name(0)"
   ]
  },
  {
   "cell_type": "code",
   "execution_count": 9,
   "metadata": {
    "id": "VaJjTbYOQ6dh"
   },
   "outputs": [],
   "source": [
    "#!pip install -q torch==1.7.0 torchvision"
   ]
  },
  {
   "cell_type": "code",
   "execution_count": 10,
   "metadata": {
    "id": "qP49cON4Q6di"
   },
   "outputs": [],
   "source": [
    "#!pip install fastai==2.0.13 --no-deps\n"
   ]
  },
  {
   "cell_type": "code",
   "execution_count": 11,
   "metadata": {
    "colab": {
     "base_uri": "https://localhost:8080/"
    },
    "id": "S97QxFmmQ6dj",
    "outputId": "31717bfc-d018-455e-aac3-ad057a3139be"
   },
   "outputs": [],
   "source": [
    "#!pip install fastcore==1.0.13\n",
    "# !pip install fastcore"
   ]
  },
  {
   "cell_type": "code",
   "execution_count": 12,
   "metadata": {
    "id": "HpxbdaycQ6dk"
   },
   "outputs": [],
   "source": [
    "import fastcore\n"
   ]
  },
  {
   "cell_type": "code",
   "execution_count": 13,
   "metadata": {
    "id": "tgmCi4a2Q6dm"
   },
   "outputs": [],
   "source": [
    "#!pip install -Uqq fastbook"
   ]
  },
  {
   "cell_type": "code",
   "execution_count": 14,
   "metadata": {
    "colab": {
     "base_uri": "https://localhost:8080/",
     "height": 148
    },
    "id": "FE1lq_HbQ6do",
    "outputId": "11378eba-edf0-4e83-f57b-eb6889a940b6"
   },
   "outputs": [
    {
     "data": {
      "text/plain": [
       "'2.7.18'"
      ]
     },
     "execution_count": 14,
     "metadata": {},
     "output_type": "execute_result"
    }
   ],
   "source": [
    "import fastai\n",
    "fastai.__version__"
   ]
  },
  {
   "cell_type": "code",
   "execution_count": 15,
   "metadata": {},
   "outputs": [],
   "source": [
    "# !pip install scikit-image "
   ]
  },
  {
   "cell_type": "code",
   "execution_count": 16,
   "metadata": {
    "colab": {
     "base_uri": "https://localhost:8080/"
    },
    "id": "yrjI2zSEQ6dq",
    "outputId": "aac00425-3599-47d0-c41f-bb45a2c307d2"
   },
   "outputs": [
    {
     "name": "stdout",
     "output_type": "stream",
     "text": [
      "1.7.29\n"
     ]
    }
   ],
   "source": [
    "print(fastcore.__version__)\n"
   ]
  },
  {
   "cell_type": "code",
   "execution_count": 17,
   "metadata": {
    "id": "qkYWLcp-Q6dr"
   },
   "outputs": [],
   "source": [
    "from fastai.vision.all import *"
   ]
  },
  {
   "cell_type": "code",
   "execution_count": 18,
   "metadata": {
    "colab": {
     "base_uri": "https://localhost:8080/"
    },
    "id": "CR-AHT0UQ6ds",
    "outputId": "bf2ab3c4-ef0e-4811-da57-bf699f27a67e"
   },
   "outputs": [
    {
     "name": "stdout",
     "output_type": "stream",
     "text": [
      "cell-segmentation.code-workspace\n",
      "cell_segmentation_training.py\n",
      "dum\n",
      "gcp_transfer\n",
      "seg_exp.py\n",
      "segment_movie.py\n",
      "segmentation_1_class_cell_indiv_tiff_context_splitting_gsutil_external_processing(5).ipynb\n",
      "segmentation_training_refactor_keras.ipynb\n",
      "segmentation_training_refactor_keras.py\n"
     ]
    }
   ],
   "source": [
    "from skimage.io import imread, imsave, imshow\n",
    "from skimage.exposure import rescale_intensity\n",
    "import os\n",
    "import numpy as np\n",
    "from pathlib import Path, PurePosixPath\n",
    "import re\n",
    "import ntpath\n",
    "from datetime import datetime\n",
    "from fastprogress.core import format_time\n",
    "from IPython.utils.io import capture_output\n",
    "!ls"
   ]
  },
  {
   "cell_type": "markdown",
   "metadata": {
    "id": "0XW_ZhfmdoFd",
    "tags": []
   },
   "source": [
    "# Segmentation Parameters\n"
   ]
  },
  {
   "cell_type": "markdown",
   "metadata": {
    "id": "7hY-e7sBevDA",
    "tags": []
   },
   "source": [
    "## Basic Parameters\n",
    "other shared settings between training and separation"
   ]
  },
  {
   "cell_type": "code",
   "execution_count": 20,
   "metadata": {
    "cellView": "form",
    "colab": {
     "base_uri": "https://localhost:8080/"
    },
    "id": "mFZ18qWWd7wu",
    "outputId": "bab256a3-a036-4613-8158-ef01d1aa0f42"
   },
   "outputs": [],
   "source": [
    "#@markdown What object type you are segmenting\n",
    "# segmentation_target = \"Separate - Cell + Nucleus models (two output folders)\" #@param [\"Nucleus\", \"Cell\", \"Separate - Cell + Nucleus models (two output folders)\", \"Combined - Cell + Nucleus models\", \"Separate - Single Model (two output folders)\", \"Combined - Single Model\",\"Custom Models\"]\n",
    "segmentation_target = \"Nucleus\" #@param [\"Nucleus\", \"Cell\", \"Separate - Cell + Nucleus models (two output folders)\", \"Combined - Cell + Nucleus models\", \"Separate - Single Model (two output folders)\", \"Combined - Single Model\",\"Custom Models\"]\n",
    "\n",
    "\n",
    "#@markdown local folder where all images and masks to be transferred to and from the GCP will be stored\n",
    "GCP_transfer_folder = \"gcp_transfer\" #@param {type:\"string\"}\n",
    "GCP_transfer_folder = Path(GCP_transfer_folder);\n",
    "if not os.path.exists(GCP_transfer_folder):\n",
    "  os.makedirs(GCP_transfer_folder);\n",
    "\n",
    "gsutil_dest_folder = GCP_transfer_folder;\n",
    "\n",
    "#@markdown regex used to decipher filenames (Leave the same for metamorph outputs)\n",
    "filename_regex = \"p[0-9]*_s([0-9]+)_t([0-9]+).*\\\\.(tif|tiff|TIF|TIFF)\" #@param {type:\"string\"}\n",
    "\n",
    "#@markdown whether the notebook is being run in a location with persistent file storage (local or GCE VM), as opposed to something like google colab. Will be set to False automatically if google colab is detected.\n",
    "persistent_files = True; #@param {type:\"boolean\"}\n",
    "try:\n",
    "    from colab import drive\n",
    "    persistent_files = False;\n",
    "except Exception:\n",
    "    pass;\n",
    "\n",
    "#@markdown not implemented for training yet; will put checkpoint outputs into a log folder\n",
    "process_logging = False; #@param {type:\"boolean\"}\n",
    "if process_logging:\n",
    "    import logging\n",
    "    log_folder = Path(\"logs\");\n",
    "    if not os.path.exists(log_folder): os.mkdir(log_folder);\n",
    "    foldername = \"log_\" + str(datetime.now()) + \".txt\";\n",
    "    log_filepath = log_folder/foldername;\n",
    "    logging.basicConfig(filename=log_filepath, level=logging.DEBUG);\n",
    "    # del log_folder;"
   ]
  },
  {
   "cell_type": "markdown",
   "metadata": {
    "id": "iwz4e8sShMW0",
    "tags": []
   },
   "source": [
    "## Cloud Storage Parameters\n",
    "Filenames and parameters for using google cloud storage"
   ]
  },
  {
   "cell_type": "code",
   "execution_count": 21,
   "metadata": {
    "cellView": "form",
    "id": "3mmU7h23hUW4"
   },
   "outputs": [],
   "source": [
    "#@markdown The name of the bucket to use (exclude the gs://)\n",
    "bucket = Path(\"optotaxisbucket\") #@param {type:\"string\"}\n",
    "\n",
    "# #@markdown the name of the high level directory in the bucket to which movie segmentation files wil be uploaded\n",
    "# GCP_parent_dir = \"movie_segmentation\" #@param {type:\"string\"}\n",
    "# GCP_parent_dir = Path(bucket)/GCP_parent_dir\n",
    "# #NOTE: whenever gsutil is used with GCP_parent_dir, you must add gs://{directory}\n",
    "\n",
    "#@markdown the path to the folder in the bucket (exclude the bucket name) where models are stored and will be exported to after training\n",
    "modelsfolder = 'models/fastai' #@param {type:\"string\"}\n",
    "gcp_modelsfolder = PurePosixPath(bucket/modelsfolder);\n",
    "local_modelsfolder = GCP_transfer_folder/os.path.basename(modelsfolder);\n",
    "del modelsfolder; #for testing purposes to make sure no old code is using this"
   ]
  },
  {
   "cell_type": "markdown",
   "metadata": {
    "id": "fhr4J0p_fJnl",
    "tags": []
   },
   "source": [
    "## Image Preparation\n",
    "shared settings between training and segmentation image/mask processing"
   ]
  },
  {
   "cell_type": "code",
   "execution_count": 22,
   "metadata": {
    "cellView": "form",
    "id": "a50wUZ5cfRMn"
   },
   "outputs": [],
   "source": [
    "#@markdown Number of slices (columns/rows) to divide input images into; for the math, pleast check https://www.desmos.com/calculator/t3cyflvlef\n",
    "x_slices = 5 #@param {type:\"integer\"}\n",
    "y_slices =  5 #@param {type:\"integer\"}\n",
    "#@markdown dx, dy are the extra context around the segmented center in both directions\n",
    "dx =  42#@param {type:\"integer\"}\n",
    "dy =  32#@param {type:\"integer\"}\n",
    "#@markdown x and y crop are how much to straight remove from the image to make the sizes able to be subdivided nicely\n",
    "x_crop = 0 #@param {type:\"integer\"}\n",
    "y_crop = 0 #@param {type:\"integer\"}\n",
    "\n",
    "context_bounds = [dy,dx]*2 #assuming x and y symmetrical, not always true -- fix?\n",
    "crop = [y_crop,x_crop]*2 #both of these are negative y, negative x, positive y, positive x\n",
    "\n",
    "#@markdown whether to rescale images to their minimum and maximum pixel values; not used if external processing\n",
    "auto_rescale = True; #@param {type:\"bool\"}"
   ]
  },
  {
   "cell_type": "markdown",
   "metadata": {
    "id": "LwGWGb_ggkKQ",
    "tags": []
   },
   "source": [
    "## Training-Specific Settings\n",
    "parameters and paths only for training"
   ]
  },
  {
   "cell_type": "code",
   "execution_count": 23,
   "metadata": {
    "cellView": "form",
    "id": "tQoLvKCmeENX"
   },
   "outputs": [],
   "source": [
    "#@markdown path to the input images within the GCP bucket (exclude the bucket name)\n",
    "training_images=\"training_images\" #@param {type:\"string\"}\n",
    "gcp_training_images=PurePosixPath(bucket/training_images);\n",
    "local_training_images = GCP_transfer_folder/training_images;\n",
    "del training_images; #for testing purposes to make sure no old code is using this\n",
    "\n",
    "#@markdown path to the input masks within the GCP bucket (exclude the bucket name)\n",
    "training_masks=\"/content/gdrive/Othercomputers/My PC/segmentation_iteration_testing/processing/training_masks\" #@param {type:\"string\"}\n",
    "gcp_training_masks=PurePosixPath(bucket/training_masks)\n",
    "local_training_masks = GCP_transfer_folder/training_masks;\n",
    "del training_masks; #for testing purposes to make sure no old code is using this\n",
    "\n",
    "#@markdown base model that will be used to train from\n",
    "inmodelname = 'seg_nuc_062719_s_1_2_110619_bleb.pkl' #@param {type:\"string\"}\n",
    "#@markdown where the model will be exported to after training\n",
    "outmodelname = 'iter3_2_nuc_scratch_test.pkl' #@param {type:\"string\"}"
   ]
  },
  {
   "cell_type": "markdown",
   "metadata": {
    "id": "NL8JyC0ElNRq",
    "tags": []
   },
   "source": [
    "## Segmentation-Specific Settings:\n",
    "parameters and paths only for segmenting an experiment\n"
   ]
  },
  {
   "cell_type": "code",
   "execution_count": 24,
   "metadata": {
    "id": "ACNpuus9lJv8",
    "tags": []
   },
   "outputs": [
    {
     "name": "stdout",
     "output_type": "stream",
     "text": [
      "out file: optotaxisbucket/movie_segmentation/2024.6.27 OptoPLC FN+Peg Test 3/segmentation_output_masks\n",
      "using models: [Path('gcp_transfer/fastai/iter3_4_nuc_continue.pkl')]\n"
     ]
    }
   ],
   "source": [
    "experiment = \"2024.6.27 OptoPLC FN+Peg Test 3\" #@param {type:\"string\"}\n",
    "\n",
    "#@markdown path to the input images in the GCP bucket (exclude the bucket name)\n",
    "segmentation_images=f\"movies/{experiment}/{experiment}\"  #@param {type:\"string\"}\n",
    "gcp_segmentation_images=PurePosixPath(bucket/segmentation_images);\n",
    "local_segmentation_images = GCP_transfer_folder/Path(segmentation_images).name;\n",
    "del segmentation_images; #for testing purposes to make sure no old code is using this\n",
    "\n",
    "#@markdown folder name where output masks will be deposited in the GCP bucket gcp directory. If segmentation target is \"Cell\", \"Nucleus\", or either of the \"Separate\" options, this will output to the subfolders \"Nucleus\" and \"Cell\" respectively. If target is \"Combined\", will output to the \"Combined\" subfolder\n",
    "segmentation_output_masks=f'movie_segmentation/{experiment}/segmentation_output_masks/' #@param {type:\"string\"}\n",
    "gcp_segmentation_output_masks=PurePosixPath(bucket/segmentation_output_masks);\n",
    "local_segmentation_output_masks=GCP_transfer_folder/Path(segmentation_output_masks).name;\n",
    "del segmentation_output_masks; #for testing purposes to make sure no old code is using this\n",
    "\n",
    "print(\"out file:\",gcp_segmentation_output_masks)\n",
    "\n",
    "#@markdown whether to send output folders to (individual) zip files; if persistent_files is false, this will incur a cost of downloading any nonpersistent files from the cloud and zipping locally\n",
    "zip_output = True; #@param {type:\"boolean\"}\n",
    "\n",
    "#@markdown whether splitting and stitching is already done or should be done by the program\n",
    "external_splitting_stitching = False; #param {type:\"boolean\"}\n",
    "\n",
    "#@markdown name/path in the gcp models folder to the nucleus model for segmentation. This field will not be used if segmentation target is Cell or * - Single Model\n",
    "nucleus_model = \"iter3_4_nuc_continue.pkl\" #param {type:\"string\"}\n",
    "nucleus_model = local_modelsfolder/nucleus_model;\n",
    "\n",
    "#@mardown name/path in the gcp models folder to the cell model for segmentation. This field will not be used if segmentation target is Nucleus or * - Single Model\n",
    "cell_model = \"iter1_10_continue.pkl\" #param {type:\"string\"}\n",
    "cell_model = local_modelsfolder/cell_model;\n",
    "\n",
    "#@mardown name/path in the gcp models folder to the combined nucleus + cell model for segmentation. This field will not be used if segmentation target is Cell, Nucleus, or Separate - Cell + Nucleus models\n",
    "combined_model = \"\" #param {type:\"string\"}\n",
    "combined_model = local_modelsfolder/combined_model;\n",
    "\n",
    "#@markdown dict of model_name:output_folder_name items to be used if segmentation target is Custom Models. Input files will be processed once per model, and the outputs will be saved to the appropriate output file.\n",
    "#@markdown Advanced usage: if either model_name or output_folder_name is a list/tuple, the segmentation outputs will be combined into one file or split into separate files, respectively\n",
    "custom_models = {\"iter1_1_seg_redo.pkl\":\"Iter1\",\"iter1_2_seg_redo.pkl\":\"Iter2\",\"iter1_3_seg_redo.pkl\":\"Iter3\",\"iter1_4_seg_redo.pkl\":\"Iter4\",\"iter1_6_context_4_continue.pkl\":\"Iter6\",\"iter1_8_continue.pkl\":\"Iter8\"} #param {type:\"raw\"}\n",
    "relative_custom_models = {};\n",
    "for key,val in custom_models.items():\n",
    "    if isinstance(key,str):\n",
    "        relative_custom_models[local_modelsfolder/key] = val;\n",
    "    else:\n",
    "        relative_custom_models[(local_modelsfolder/k for k in key)] = val;\n",
    "custom_models = relative_custom_models;\n",
    "# print(custom_models)\n",
    "\n",
    "used_models = {};\n",
    "ts = [\"Nucleus\", \"Cell\", \"Separate - Cell + Nucleus models (two output folders)\", \"Combined - Cell + Nucleus models\", \"Separate - Single Model (two output folders)\", \"Combined - Single Model\",\"Custom Models\"]\n",
    "ms = [{nucleus_model:\"Nucleus\"},{cell_model:\"Cell\"},\n",
    "      {nucleus_model:\"Nucleus\",cell_model:\"Cell\"},\n",
    "      {(nucleus_model,cell_model):\"Combined\"},\n",
    "      {combined_model:(\"Nucleus\",\"Cell\")},\n",
    "      {combined_model:\"Combined\"},\n",
    "       custom_models]; \n",
    "target_model_map = {x:y for x,y in zip(ts,ms)};\n",
    "\n",
    "\n",
    "print(\"using models:\",list(target_model_map[segmentation_target].keys()));"
   ]
  },
  {
   "cell_type": "markdown",
   "metadata": {
    "tags": []
   },
   "source": [
    "## Helper Functions"
   ]
  },
  {
   "cell_type": "code",
   "execution_count": 25,
   "metadata": {
    "tags": []
   },
   "outputs": [],
   "source": [
    "def get_image_files_recursively(path):\n",
    "    path = Path(path);\n",
    "    out = get_image_files(path);\n",
    "    subfiles = os.listdir(path);\n",
    "    for f in subfiles:\n",
    "        if (os.path.isdir(f)):\n",
    "            out += get_image_files_recursively(path/f);\n",
    "    return out;\n",
    "            \n",
    "def on_rm_error( func, path, exc_info):\n",
    "    # path contains the path of the file that couldn't be removed\n",
    "    # let's just assume that it's read-only and unlink it.\n",
    "    os.chmod( path, stat.S_IWRITE )\n",
    "    # os.unlink( path )\n",
    "\n",
    "def cleardir(dir): #clears all files in dir without deleting dir\n",
    "  for f in os.scandir(dir):\n",
    "    # f = os.path.join(dir,f)\n",
    "    if os.path.isdir(f): shutil.rmtree(f,onerror=on_rm_error); #just in case\n",
    "    else: os.remove(f);    "
   ]
  },
  {
   "cell_type": "code",
   "execution_count": 26,
   "metadata": {},
   "outputs": [
    {
     "name": "stdout",
     "output_type": "stream",
     "text": [
      "using python zip\n",
      "using python unzip\n"
     ]
    }
   ],
   "source": [
    "def _linux_cmd_zip(source,dest,recurse=False,compresslevel:Union[int,None]=None,bar=None,relative_to = \"\"):\n",
    "    relative = Path(source)/relative_to\n",
    "    dest = Path(dest)\n",
    "    if compresslevel is not None:\n",
    "        compresstext = f\"-{compresslevel}\"\n",
    "        if recurse:\n",
    "            result = !cd \"{relative}\" && zip \"{compresstext}\" -r \"{dest.name}\" *\n",
    "        else:\n",
    "            result = !cd \"{relative}\" && zip \"{compresstext}\" \"{dest.name}\" *\n",
    "    else:\n",
    "        if recurse:\n",
    "            result = !cd \"{relative}\" && zip -r \"{dest.name}\" *\n",
    "        else:\n",
    "            result = !cd \"{relative}\" && zip \"{dest.name}\" *\n",
    "    shutil.move(relative/dest.name,dest);\n",
    "    return result\n",
    "\n",
    "def _python_cmd_zip(source,dest,recurse=False,compresslevel:Union[int,None]=6,bar=False,relative_to = \"\"):\n",
    "    print(source);\n",
    "    if compresslevel is None:\n",
    "        compresslevel = 6\n",
    "    source = Path(source);\n",
    "    relative = source/relative_to\n",
    "    dest = Path(dest)\n",
    "    paths = list((source.rglob(\"*\") if recurse else source.iterdir()))\n",
    "    if paths:\n",
    "        paths = progress_bar(paths)\n",
    "    with zipfile.ZipFile(dest,'w',compression=zipfile.ZIP_DEFLATED,compresslevel=compresslevel) as archive:\n",
    "        for filepath in paths:\n",
    "            archive.write(filepath,arcname=filepath.relative_to(source));\n",
    "zipExists = shutil.which(\"zip\")\n",
    "cmd_zip = _linux_cmd_zip if zipExists else _python_cmd_zip\n",
    "print(\"using python zip\" if not zipExists else \"using cmdline zip\")\n",
    "\n",
    "def _linux_cmd_unzip(source,dest,overwrite=False)->List[str]:\n",
    "  flags = \"-\" + (\"o\" if overwrite else \"\")\n",
    "  if flags ==  \"-\":\n",
    "    result = !unzip \"{source}\" -d \"{dest}\" \n",
    "  else:\n",
    "    result = !unzip \"{flags}\" \"{source}\" -d \"{dest}\" \n",
    "  return result\n",
    "\n",
    "def _python_cmd_unzip(source,dest,overwrite=False):\n",
    "    source = Path(source);\n",
    "    dest = Path(dest);\n",
    "    with zipfile.ZipFile(source,'r') as archive:\n",
    "        for member in archive.infolist():\n",
    "            file_path = dest/member.filename\n",
    "            if not file_path.exists():\n",
    "                archive.extract(member, dest)\n",
    "\n",
    "unzipExists = shutil.which(\"unzip\")\n",
    "cmd_unzip = _linux_cmd_unzip if unzipExists else _python_cmd_unzip\n",
    "print(\"using python unzip\" if not unzipExists else \"using cmdline unzip\")"
   ]
  },
  {
   "cell_type": "markdown",
   "metadata": {
    "id": "TM0AEKHASsWp",
    "tags": []
   },
   "source": [
    "# Segment Experiment\n",
    "Will process all images in the segmentation input folder and continuously output segmented masks into the segmentation output masks folder in GCP."
   ]
  },
  {
   "cell_type": "markdown",
   "metadata": {
    "id": "P9WsH51038ov",
    "tags": []
   },
   "source": [
    "### Pull GCP folders to local environment"
   ]
  },
  {
   "cell_type": "code",
   "execution_count": 25,
   "metadata": {
    "tags": []
   },
   "outputs": [
    {
     "name": "stdout",
     "output_type": "stream",
     "text": [
      "optotaxisbucket/models/fastai\n",
      "gcp_transfer\n"
     ]
    }
   ],
   "source": [
    "print(gcp_modelsfolder)\n",
    "print(gsutil_dest_folder)\n",
    "if process_logging: logging.debug(\"copying remote folders...\");"
   ]
  },
  {
   "cell_type": "code",
   "execution_count": 45,
   "metadata": {
    "id": "kZH_t31t38Qn",
    "scrolled": true
   },
   "outputs": [
    {
     "name": "stderr",
     "output_type": "stream",
     "text": [
      "Copying gs://optotaxisbucket/models/fastai/e_cell_r1.pkl...\n",
      "Copying gs://optotaxisbucket/models/fastai/iter1_1_seg_redo.pkl...\n",
      "Copying gs://optotaxisbucket/models/fastai/5x5_context_split_test.pkl...\n",
      "/ [0/23 files][    0.0 B/  4.7 GiB]   0% Done                                   \n",
      "/ [0/23 files][    0.0 B/  4.7 GiB]   0% Done                                   \n",
      "Copying gs://optotaxisbucket/models/fastai/iter3_2_nuc_continue_test.pkl...\n",
      "/ [0/23 files][    0.0 B/  4.7 GiB]   0% Done                                   \n",
      "Copying gs://optotaxisbucket/models/fastai/blah.c...\n",
      "/ [0/23 files][    0.0 B/  4.7 GiB]   0% Done                                   \n",
      "/ [0/23 files][    0.0 B/  4.7 GiB]   0% Done                                   \n",
      "Copying gs://optotaxisbucket/models/fastai/seg_nuc_062719_s_1_2_110619_bleb.pkl...\n",
      "/ [0/23 files][    0.0 B/  4.7 GiB]   0% Done                                   \n",
      "Copying gs://optotaxisbucket/models/fastai/test_out.pkl...\n",
      "Copying gs://optotaxisbucket/models/fastai/iter3_6_nuc_3stack_halfres.pkl...\n",
      "/ [0/23 files][    0.0 B/  4.7 GiB]   0% Done                                   \n",
      "/ [0/23 files][    0.0 B/  4.7 GiB]   0% Done                                   \n",
      "Copying gs://optotaxisbucket/models/fastai/4x4_split_test.pkl...\n",
      "Copying gs://optotaxisbucket/models/fastai/2x2_split_noaug_test.pkl...\n",
      "/ [0/23 files][    0.0 B/  4.7 GiB]   0% Done                                   \n",
      "Copying gs://optotaxisbucket/models/fastai/iter3_2_nuc_scratch_test.pkl...\n",
      "/ [0/23 files][    0.0 B/  4.7 GiB]   0% Done                                   \n",
      "/ [0/23 files][    0.0 B/  4.7 GiB]   0% Done                                   \n",
      "Copying gs://optotaxisbucket/models/fastai/seg_cell_062719_s_1_2_110619_bleb.pkl...\n",
      "/ [0/23 files][    0.0 B/  4.7 GiB]   0% Done                                   \n",
      "Copying gs://optotaxisbucket/models/fastai/iter1_10_continue.pkl...\n",
      "/ [0/23 files][    0.0 B/  4.7 GiB]   0% Done                                   \n",
      "Copying gs://optotaxisbucket/models/fastai/iter1_8_continue.pkl...\n",
      "/ [0/23 files][    0.0 B/  4.7 GiB]   0% Done                                   \n",
      "Copying gs://optotaxisbucket/models/fastai/iter3_1_nuc.pkl...\n",
      "/ [0/23 files][    0.0 B/  4.7 GiB]   0% Done                                   \n",
      "Copying gs://optotaxisbucket/models/fastai/iter1_9_continue.pkl...\n",
      "Copying gs://optotaxisbucket/models/fastai/iter1_6_context_fromsegbleb.pkl...\n",
      "/ [0/23 files][    0.0 B/  4.7 GiB]   0% Done                                   \n",
      "/ [0/23 files][    0.0 B/  4.7 GiB]   0% Done                                   \n",
      "/ [1/23 files][    0.0 B/  4.7 GiB]   0% Done                                   \n",
      "Copying gs://optotaxisbucket/models/fastai/iter1_2_seg_redo.pkl...\n",
      "Copying gs://optotaxisbucket/models/fastai/iter3_4_nuc_continue.pkl...\n",
      "/ [1/23 files][    0.0 B/  4.7 GiB]   0% Done                                   \n",
      "Copying gs://optotaxisbucket/models/fastai/iter1_6_context_4_continue.pkl...\n",
      "Copying gs://optotaxisbucket/models/fastai/iter1_3_seg_redo.pkl...\n",
      "Copying gs://optotaxisbucket/models/fastai/e_nuc_r1.pkl...\n",
      "/ [1/23 files][    0.0 B/  4.7 GiB]   0% Done                                   \n",
      "Copying gs://optotaxisbucket/models/fastai/iter1_4_seg_redo.pkl...\n",
      "/ [1/23 files][    0.0 B/  4.7 GiB]   0% Done                                   \n",
      "/ [1/23 files][    0.0 B/  4.7 GiB]   0% Done                                   \n",
      "/ [1/23 files][    0.0 B/  4.7 GiB]   0% Done                                   \n",
      "/ [1/23 files][    0.0 B/  4.7 GiB]   0% Done                                   \n",
      "/ [1/23 files][    0.0 B/  4.7 GiB]   0% Done                                   \n",
      "-\n",
      "\\\n",
      "\\ [1/23 files][ 57.5 MiB/  4.7 GiB]   1% Done                                   \n",
      "|\n",
      "/\n",
      "/ [1/23 files][169.7 MiB/  4.7 GiB]   3% Done                                   \n",
      "-\n",
      "- [1/23 files][281.2 MiB/  4.7 GiB]   5% Done                                   \n",
      "\\\n",
      "|\n",
      "| [1/23 files][393.8 MiB/  4.7 GiB]   8% Done                                   \n",
      "/\n",
      "-\n",
      "- [1/23 files][506.2 MiB/  4.7 GiB]  10% Done                                   \n",
      "\\\n",
      "\\ [1/23 files][618.1 MiB/  4.7 GiB]  12% Done                                   \n",
      "|\n",
      "/\n",
      "/ [1/23 files][728.8 MiB/  4.7 GiB]  15% Done                                   \n",
      "-\n",
      "\\\n",
      "\\ [1/23 files][832.2 MiB/  4.7 GiB]  17% Done                                   \n",
      "|\n",
      "| [1/23 files][943.1 MiB/  4.7 GiB]  19% Done                                   \n",
      "/\n",
      "-\n",
      "- [1/23 files][  1.0 GiB/  4.7 GiB]  21% Done 109.1 MiB/s ETA 00:00:35          \n",
      "\\\n",
      "|\n",
      "| [1/23 files][  1.1 GiB/  4.7 GiB]  24% Done 109.3 MiB/s ETA 00:00:33          \n",
      "/\n",
      "/ [1/23 files][  1.2 GiB/  4.7 GiB]  26% Done 110.1 MiB/s ETA 00:00:32          \n",
      "-\n",
      "\\\n",
      "\\ [1/23 files][  1.4 GiB/  4.7 GiB]  28% Done 110.7 MiB/s ETA 00:00:31          \n",
      "|\n",
      "/\n",
      "/ [1/23 files][  1.5 GiB/  4.7 GiB]  31% Done 110.9 MiB/s ETA 00:00:30          \n",
      "-\n",
      "- [1/23 files][  1.6 GiB/  4.7 GiB]  33% Done 110.9 MiB/s ETA 00:00:29          \n",
      "\\\n",
      "|\n",
      "| [2/23 files][  1.7 GiB/  4.7 GiB]  35% Done 111.1 MiB/s ETA 00:00:28          \n",
      "/\n",
      "-\n",
      "- [2/23 files][  1.8 GiB/  4.7 GiB]  37% Done 110.6 MiB/s ETA 00:00:27          \n",
      "\\\n",
      "\\ [2/23 files][  1.9 GiB/  4.7 GiB]  40% Done 111.5 MiB/s ETA 00:00:26          \n",
      "|\n",
      "/\n",
      "/ [2/23 files][  2.0 GiB/  4.7 GiB]  42% Done 111.5 MiB/s ETA 00:00:25          \n",
      "-\n",
      "\\\n",
      "\\ [2/23 files][  2.1 GiB/  4.7 GiB]  44% Done 110.8 MiB/s ETA 00:00:24          \n",
      "|\n",
      "| [2/23 files][  2.2 GiB/  4.7 GiB]  46% Done 110.6 MiB/s ETA 00:00:23          \n",
      "/\n",
      "-\n",
      "- [2/23 files][  2.3 GiB/  4.7 GiB]  49% Done 110.9 MiB/s ETA 00:00:22          \n",
      "- [3/23 files][  2.4 GiB/  4.7 GiB]  49% Done 111.0 MiB/s ETA 00:00:22          \n",
      "\\\n",
      "\\ [4/23 files][  2.4 GiB/  4.7 GiB]  51% Done 111.2 MiB/s ETA 00:00:21          \n",
      "|\n",
      "| [5/23 files][  2.4 GiB/  4.7 GiB]  51% Done 110.6 MiB/s ETA 00:00:21          \n",
      "/\n",
      "/ [5/23 files][  2.5 GiB/  4.7 GiB]  53% Done 111.4 MiB/s ETA 00:00:20          \n",
      "-\n",
      "\\\n",
      "\\ [5/23 files][  2.6 GiB/  4.7 GiB]  56% Done 111.4 MiB/s ETA 00:00:19          \n",
      "\\ [6/23 files][  2.7 GiB/  4.7 GiB]  56% Done 111.1 MiB/s ETA 00:00:19          \n",
      "|\n",
      "| [7/23 files][  2.7 GiB/  4.7 GiB]  57% Done 111.1 MiB/s ETA 00:00:19          \n",
      "/\n",
      "/ [8/23 files][  2.8 GiB/  4.7 GiB]  58% Done 110.8 MiB/s ETA 00:00:18          \n",
      "-\n",
      "- [9/23 files][  2.8 GiB/  4.7 GiB]  59% Done 111.0 MiB/s ETA 00:00:17          \n",
      "\\\n",
      "\\ [9/23 files][  2.9 GiB/  4.7 GiB]  62% Done 110.2 MiB/s ETA 00:00:17          \n",
      "|\n",
      "/\n",
      "/ [9/23 files][  3.0 GiB/  4.7 GiB]  64% Done 110.8 MiB/s ETA 00:00:15          \n",
      "-\n",
      "- [9/23 files][  3.2 GiB/  4.7 GiB]  66% Done 110.6 MiB/s ETA 00:00:14          \n",
      "\\\n",
      "\\ [10/23 files][  3.2 GiB/  4.7 GiB]  67% Done 111.1 MiB/s ETA 00:00:14         \n",
      "|\n",
      "| [10/23 files][  3.3 GiB/  4.7 GiB]  69% Done 111.7 MiB/s ETA 00:00:13         \n",
      "/\n",
      "-\n",
      "- [10/23 files][  3.4 GiB/  4.7 GiB]  71% Done 111.5 MiB/s ETA 00:00:12         \n",
      "- [11/23 files][  3.4 GiB/  4.7 GiB]  71% Done 112.1 MiB/s ETA 00:00:12         \n",
      "\\\n",
      "|\n",
      "| [11/23 files][  3.5 GiB/  4.7 GiB]  74% Done 111.6 MiB/s ETA 00:00:11         \n",
      "| [12/23 files][  3.6 GiB/  4.7 GiB]  75% Done 111.7 MiB/s ETA 00:00:11         \n",
      "/\n",
      "-\n",
      "- [12/23 files][  3.6 GiB/  4.7 GiB]  77% Done 111.5 MiB/s ETA 00:00:10         \n",
      "\\\n",
      "|\n",
      "| [12/23 files][  3.8 GiB/  4.7 GiB]  79% Done 112.1 MiB/s ETA 00:00:09         \n",
      "/\n",
      "/ [13/23 files][  3.9 GiB/  4.7 GiB]  81% Done 112.1 MiB/s ETA 00:00:08         \n",
      "-\n",
      "- [14/23 files][  3.9 GiB/  4.7 GiB]  82% Done 112.0 MiB/s ETA 00:00:07         \n",
      "\\\n",
      "|\n",
      "| [14/23 files][  4.0 GiB/  4.7 GiB]  85% Done 111.1 MiB/s ETA 00:00:06         \n",
      "/\n",
      "/ [14/23 files][  4.1 GiB/  4.7 GiB]  87% Done 109.6 MiB/s ETA 00:00:06         \n",
      "-\n",
      "\\\n",
      "\\ [14/23 files][  4.2 GiB/  4.7 GiB]  89% Done 109.4 MiB/s ETA 00:00:05         \n",
      "|\n",
      "| [15/23 files][  4.3 GiB/  4.7 GiB]  91% Done 109.3 MiB/s ETA 00:00:04         \n",
      "/\n",
      "-\n",
      "- [15/23 files][  4.4 GiB/  4.7 GiB]  93% Done 109.5 MiB/s ETA 00:00:03         \n",
      "- [16/23 files][  4.4 GiB/  4.7 GiB]  94% Done 109.4 MiB/s ETA 00:00:03         \n",
      "\\\n",
      "|\n",
      "| [16/23 files][  4.5 GiB/  4.7 GiB]  96% Done 108.7 MiB/s ETA 00:00:02         \n",
      "| [17/23 files][  4.6 GiB/  4.7 GiB]  96% Done 106.3 MiB/s ETA 00:00:02         \n",
      "/\n",
      "/ [18/23 files][  4.6 GiB/  4.7 GiB]  97% Done 105.6 MiB/s ETA 00:00:01         \n",
      "/ [19/23 files][  4.6 GiB/  4.7 GiB]  97% Done 105.4 MiB/s ETA 00:00:01         \n",
      "-\n",
      "- [20/23 files][  4.6 GiB/  4.7 GiB]  98% Done 101.8 MiB/s ETA 00:00:01         \n",
      "\\\n",
      "\\ [20/23 files][  4.7 GiB/  4.7 GiB]  99% Done  91.1 MiB/s ETA 00:00:00         \n",
      "|\n",
      "| [21/23 files][  4.7 GiB/  4.7 GiB]  99% Done  88.4 MiB/s ETA 00:00:00         \n",
      "| [22/23 files][  4.7 GiB/  4.7 GiB]  99% Done  81.0 MiB/s ETA 00:00:00         \n",
      "/\n",
      "-\n",
      "- [23/23 files][  4.7 GiB/  4.7 GiB] 100% Done  64.9 MiB/s ETA 00:00:00         \n",
      "\n",
      "Operation completed over 23 objects/4.7 GiB.                                     \n"
     ]
    }
   ],
   "source": [
    "#models folder\n",
    "!gsutil -m cp -r -n \"gs://{gcp_modelsfolder}\" \"{gsutil_dest_folder}\"\n",
    "# print(s)"
   ]
  },
  {
   "cell_type": "code",
   "execution_count": 27,
   "metadata": {},
   "outputs": [
    {
     "name": "stdout",
     "output_type": "stream",
     "text": [
      "Images successfully copied\n"
     ]
    }
   ],
   "source": [
    "# %%capture\n",
    "#segmentation images\n",
    "with capture_output() as capture:\n",
    "    s=!gsutil -m cp -r -n \"gs://{gcp_segmentation_images}\" \"{gsutil_dest_folder}\"\n",
    "if s[0].startswith('CommandException') or s[0].startswith('BucketNotFoundException'):\n",
    "    raise Exception(\"Error: unable to copy images:\\n\"+\"\\n\".join(s));\n",
    "else:\n",
    "    print(\"Images successfully copied\")\n",
    "files_changed = False;\n",
    "stitching_complete = False"
   ]
  },
  {
   "cell_type": "markdown",
   "metadata": {
    "id": "riJVvk80SsWw",
    "tags": []
   },
   "source": [
    "### Loading a trained model"
   ]
  },
  {
   "cell_type": "code",
   "execution_count": 27,
   "metadata": {
    "colab": {
     "base_uri": "https://localhost:8080/"
    },
    "id": "BFHCBd8CSsXF",
    "outputId": "0992cf8a-635f-4985-d27e-3b47a8bd8aa4"
   },
   "outputs": [
    {
     "name": "stdout",
     "output_type": "stream",
     "text": [
      "using gpu\n",
      "model loaded and instructions created\n"
     ]
    }
   ],
   "source": [
    "import pathlib\n",
    "pathlib.PosixPath = PurePosixPath\n",
    "if process_logging: logging.debug(\"preparing models...\");\n",
    "def label_func(x): return None; ##dummy function to make unpickling work, never used\n",
    "def mask_from_image(x): return None; ##dummy function to make unpickling work, never used\n",
    "model_outputs_dict = target_model_map[segmentation_target];\n",
    "process_instructions = [];\n",
    "output_dirs = [];\n",
    "    \n",
    "for model,outName in model_outputs_dict.items():\n",
    "    key = [];\n",
    "    if not isinstance(model,list):\n",
    "        loadedlearner=load_learner(model,cpu=True);\n",
    "        if torch.cuda.is_available():\n",
    "            print(\"using gpu\");\n",
    "            loadedlearner.model = loadedlearner.model.cuda();\n",
    "        key = [loadedlearner];\n",
    "    else:\n",
    "        for m in model:\n",
    "            loadedlearner=load_learner(m,cpu=True);\n",
    "            if torch.cuda.is_available():\n",
    "                print(\"using gpu\");\n",
    "                loadedlearner.model = loadedlearner.model.cuda();\n",
    "            key.append(loadedlearner);\n",
    "    if not isinstance(outName,list):\n",
    "        outName = [local_segmentation_output_masks/outName]\n",
    "        output_dirs += outName;\n",
    "    else:\n",
    "        outName = [local_segmentation_output_masks/n for n in outName];\n",
    "        output_dirs += outName;\n",
    "    process_instructions.append((key,outName));\n",
    "    \n",
    "print(\"model loaded and instructions created\");\n",
    "        "
   ]
  },
  {
   "cell_type": "code",
   "execution_count": 30,
   "metadata": {},
   "outputs": [],
   "source": [
    "learn = process_instructions[0][0][0]"
   ]
  },
  {
   "cell_type": "code",
   "execution_count": 41,
   "metadata": {},
   "outputs": [
    {
     "data": {
      "text/plain": [
       "fastai.learner.Learner"
      ]
     },
     "execution_count": 41,
     "metadata": {},
     "output_type": "execute_result"
    }
   ],
   "source": [
    "type(learn)"
   ]
  },
  {
   "cell_type": "markdown",
   "metadata": {
    "id": "guSkdEEN4gGB",
    "tags": []
   },
   "source": [
    "### Do pre-segmentation file management\n",
    "Create output folder, find which files are remaining to segment, chunk files into batches for segmentation and upload"
   ]
  },
  {
   "cell_type": "code",
   "execution_count": 72,
   "metadata": {
    "colab": {
     "base_uri": "https://localhost:8080/"
    },
    "id": "ggQsVRM7Xq48",
    "outputId": "a9715f5f-2804-4b3d-d7be-9a09b8fd5d20"
   },
   "outputs": [
    {
     "data": {
      "text/html": [
       "\n",
       "<style>\n",
       "    /* Turns off some styling */\n",
       "    progress {\n",
       "        /* gets rid of default border in Firefox and Opera. */\n",
       "        border: none;\n",
       "        /* Needs to be in here for Safari polyfill so background images work as expected. */\n",
       "        background-size: auto;\n",
       "    }\n",
       "    progress:not([value]), progress:not([value])::-webkit-progress-bar {\n",
       "        background: repeating-linear-gradient(45deg, #7e7e7e, #7e7e7e 10px, #5c5c5c 10px, #5c5c5c 20px);\n",
       "    }\n",
       "    .progress-bar-interrupted, .progress-bar-interrupted::-webkit-progress-bar {\n",
       "        background: #F44336;\n",
       "    }\n",
       "</style>\n"
      ],
      "text/plain": [
       "<IPython.core.display.HTML object>"
      ]
     },
     "metadata": {},
     "output_type": "display_data"
    },
    {
     "data": {
      "text/html": [
       "\n",
       "    <div>\n",
       "      <progress value='1' class='' max='1' style='width:300px; height:20px; vertical-align: middle;'></progress>\n",
       "      100.00% [1/1 00:01&lt;00:00]\n",
       "    </div>\n",
       "    "
      ],
      "text/plain": [
       "<IPython.core.display.HTML object>"
      ]
     },
     "metadata": {},
     "output_type": "display_data"
    },
    {
     "name": "stdout",
     "output_type": "stream",
     "text": [
      "input files: 2024\n",
      "output files: [2024]\n",
      "remaining files: 0\n"
     ]
    }
   ],
   "source": [
    "if process_logging: logging.debug(\"preparing filepaths...\");\n",
    "if not os.path.exists(local_segmentation_output_masks):\n",
    "    os.makedirs(local_segmentation_output_masks,exist_ok=True);\n",
    "for d in output_dirs:\n",
    "    if not os.path.exists(d):\n",
    "        os.makedirs(d,exist_ok=True);\n",
    "        \n",
    "\n",
    "## prepare files\n",
    "\n",
    "#as far as I can tell through testing, this only matters for ensuring RAM usage stays low\n",
    "batchSize = 256;\n",
    "if not external_splitting_stitching:\n",
    "    batchSize = max(int(batchSize / (x_slices*y_slices) / loadedlearner.dls.bs)*loadedlearner.dls.bs,1);\n",
    "\n",
    "\n",
    "files = get_image_files_recursively(local_segmentation_images);\n",
    "\n",
    "partial_upload = False;\n",
    "\n",
    "#make destination folders to match input directory tree\n",
    "for name in files:\n",
    "    for d in output_dirs:\n",
    "        os.makedirs(d/(Path(os.path.relpath(name,local_segmentation_images)).parent),exist_ok=True);\n",
    "\n",
    "completed_masks = [];\n",
    "for d in progress_bar(output_dirs):\n",
    "    cmasks = [os.path.relpath(x,d) for x in get_image_files_recursively(d)];\n",
    "    if not persistent_files or True:\n",
    "        c = !gsutil ls -r \"gs://{gcp_segmentation_output_masks/os.path.basename(d)}\"\n",
    "        if any([x.startswith(\"CommandException\") for x in c]): c = [];\n",
    "        # print(c)\n",
    "        t = [os.path.relpath(x,f\"gs://{gcp_segmentation_output_masks/os.path.basename(d)}\") for x in c if x != '' and not x.endswith((':','.zip','.nd','.flag'))];\n",
    "        # print(t);\n",
    "        partial_upload = partial_upload or any([s for s in t if t not in cmasks]);\n",
    "        cmasks += t;\n",
    "    completed_masks.append(cmasks);\n",
    "# print(completed_masks);\n",
    "print(\"input files:\",len(files))\n",
    "total_files = len(files);\n",
    "print(\"output files:\",[len(set(cmasks)) for cmasks in completed_masks])\n",
    "# print(\"output files:\",[cmasks for cmasks in completed_masks])\n",
    "\n",
    "files = [fi for fi in files if any([os.path.relpath(fi,local_segmentation_images) not in cmasks for cmasks in completed_masks])];\n",
    "print(\"remaining files:\",len(files))\n",
    "files_remaining = len(files);\n",
    "\n",
    "# print(batchSize);\n",
    "fileChunks = list(chunked(files, chunk_sz=batchSize));\n",
    "\n",
    "filestate_read = True;\n"
   ]
  },
  {
   "cell_type": "code",
   "execution_count": 73,
   "metadata": {
    "colab": {
     "base_uri": "https://localhost:8080/",
     "height": 74
    },
    "id": "bRLQw7lsSsXT",
    "outputId": "72df882b-8853-4f0e-aaa5-089e834ed8ec"
   },
   "outputs": [],
   "source": [
    "if external_splitting_stitching:\n",
    "    if process_logging: logging.debug(\"starting external_splitting segmentation...\");\n",
    "    stitching_complete = False;\n",
    "    if not filestate_read:\n",
    "        raise Exception(\"Error: file output state not updated since last processing, please run the \\\"pre-segmentation file management\\\" cell again\")\n",
    "    filestate_read = False\n",
    "    cpus = len(os.sched_getaffinity(0))\n",
    "    if files_remaining != 0:\n",
    "        files_changed = True;\n",
    "        p = progress_bar(fileChunks,files_remaining//batchSize+1); #makes a progress bar\n",
    "        for n,chunk in enumerate(p):\n",
    "            for models,out in process_instructions:\n",
    "                outputs = [];\n",
    "                for m in models:\n",
    "                    dl = m.dls.test_dl(chunk,num_workers=cpus);\n",
    "                    if torch.cuda.is_available():\n",
    "                        dl = m.dls.test_dl(chunk,num_workers=cpus,device='cuda');\n",
    "                        dl.to('cuda');\n",
    "                    _,_,dec_preds = m.get_preds(with_decoded=True,dl=dl);\n",
    "                    outputs.append(dec_preds);\n",
    "                if len(out) == len(outputs): #should also work for model splitting if can figure out how to make outputs the right shape\n",
    "                    for p,put in zip(out,outputs):\n",
    "                        for path,prediction in zip(chunk,put):\n",
    "                            basename = os.path.relpath(path,local_segmentation_images); #preserve input directory structure\n",
    "                            imsave(p/basename,prediction.numpy().astype('uint8'),check_contrast=False);\n",
    "                else: #TODO: TEST AND FIX\n",
    "                    print(\"ERROR: NOT IMPLEMENTED\");\n",
    "            if process_logging: \n",
    "                try:\n",
    "                    time_remaining = format_time(p.pred_t - p.last_t + p.start_t);\n",
    "                    logging.debug(f\"chunk {n} complete; time remaining: {time_remaining}\");\n",
    "                except Exception as e:\n",
    "                    logging.error(e);\n",
    "                    logging.debug(f\"chunk {n} complete\");\n",
    "                    \n",
    "                \n",
    "            if not persistent_files:\n",
    "                with capture_output() as capture:\n",
    "                    !gsutil -m rsync -r \"{local_segmentation_output_masks}\" \"gs://{gcp_segmentation_output_masks}\"\n",
    "    if not stitching_complete:\n",
    "        print(\"image segmentation process complete, finishing up...\");\n",
    "        with open(local_segmentation_output_masks/'segmentation_complete.flag','w') as f:\n",
    "            pass;\n",
    "        #zip files if required\n",
    "        if zip_output:\n",
    "            if not persistent_files or (partial_upload and files_changed):\n",
    "                #download external files\n",
    "                !gsutil -m rsync -r \"gs://{gcp_segmentation_output_masks}\" \"{local_segmentation_output_masks}\"\n",
    "            for folder in output_dirs:\n",
    "                if files_changed or not os.path.exists(folder.with_suffix('.zip')):\n",
    "                    with capture_output() as capture:\n",
    "                        !(cd \"{folder.parent}\" && zip -r \"{folder.with_suffix('.zip').name}\" \"{folder.name}\")\n",
    "                        !gsutil -m cp \"{folder.with_suffix('.zip')}\" \"gs://{gcp_segmentation_output_masks/folder.with_suffix('.zip').name}\"\n",
    "        #this is actually insane. The GCP bucket has to have at least one file in the parent directory\n",
    "        #or it just like forgets to put the innermost directory. I have no idea why, but this fixes it\n",
    "        with open(\"foothold.txt\",'w') as f:\n",
    "            pass;\n",
    "        # with capture_output() as capture:\n",
    "        #     !gsutil cp foothold.txt \"gs://{gcp_segmentation_output_masks.parent}/foothold.txt\"\n",
    "        with capture_output() as capture:\n",
    "            !gsutil -m rsync -r \"{local_segmentation_output_masks}\" \"gs://{gcp_segmentation_output_masks}\"\n",
    "        print(\"folder processing complete\");\n",
    "        stitching_complete = True;\n",
    "        if process_logging: logging.debug(\"segmentation fully complete\");\n",
    "        print(\"segmentation complete!\");\n",
    "    else:\n",
    "        print(\"segmentation already complete!\");\n",
    "        stitching_complete = True;"
   ]
  },
  {
   "cell_type": "code",
   "execution_count": 74,
   "metadata": {
    "tags": []
   },
   "outputs": [
    {
     "name": "stdout",
     "output_type": "stream",
     "text": [
      "image segmentation process complete, finishing up...\n",
      "zipping files...\n"
     ]
    },
    {
     "data": {
      "text/html": [
       "\n",
       "<style>\n",
       "    /* Turns off some styling */\n",
       "    progress {\n",
       "        /* gets rid of default border in Firefox and Opera. */\n",
       "        border: none;\n",
       "        /* Needs to be in here for Safari polyfill so background images work as expected. */\n",
       "        background-size: auto;\n",
       "    }\n",
       "    progress:not([value]), progress:not([value])::-webkit-progress-bar {\n",
       "        background: repeating-linear-gradient(45deg, #7e7e7e, #7e7e7e 10px, #5c5c5c 10px, #5c5c5c 20px);\n",
       "    }\n",
       "    .progress-bar-interrupted, .progress-bar-interrupted::-webkit-progress-bar {\n",
       "        background: #F44336;\n",
       "    }\n",
       "</style>\n"
      ],
      "text/plain": [
       "<IPython.core.display.HTML object>"
      ]
     },
     "metadata": {},
     "output_type": "display_data"
    },
    {
     "data": {
      "text/html": [
       "\n",
       "    <div>\n",
       "      <progress value='1' class='' max='1' style='width:300px; height:20px; vertical-align: middle;'></progress>\n",
       "      100.00% [1/1 00:20&lt;00:00]\n",
       "    </div>\n",
       "    "
      ],
      "text/plain": [
       "<IPython.core.display.HTML object>"
      ]
     },
     "metadata": {},
     "output_type": "display_data"
    },
    {
     "name": "stdout",
     "output_type": "stream",
     "text": [
      "copying files to remote...\n",
      "segmentation complete!\n"
     ]
    }
   ],
   "source": [
    "if not external_splitting_stitching:\n",
    "    if process_logging: logging.debug(\"starting nonexternal_splitting segmentation\");\n",
    "    if not filestate_read:\n",
    "        raise Exception(\"Error: file output state not updated since last processing, please run the \\\"pre-segmentation file management\\\" cell again\")\n",
    "    filestate_read = False\n",
    "    from IPython.utils.io import capture_output\n",
    "    import multiprocessing.dummy\n",
    "    from multiprocessing.dummy import Pool\n",
    "    cpus = 4\n",
    "    \n",
    "    def split_image(name):\n",
    "        try:\n",
    "            im = imread(name);\n",
    "        except:\n",
    "            raise IOError(f\"Error while attempting to read image {name}\");\n",
    "        if auto_rescale:\n",
    "            im = rescale_intensity(im);\n",
    "        assert isinstance(im,np.ndarray);\n",
    "\n",
    "        M = (im.shape[0]-context_bounds[0]-context_bounds[2]-crop[0]-crop[2])/y_slices;\n",
    "        N = (im.shape[1]-context_bounds[1]-context_bounds[3]-crop[1]-crop[3])/x_slices;\n",
    "\n",
    "        if int(M) != M or int(N) != N:\n",
    "            raise Exception(f\"ERROR: Mask with size {im.shape[:2]} cannot be sliced into {x_slices} columns and {y_slices} rows\\nwith context bounds of {context_bounds}; {M} and {N} not integers\");\n",
    "        else:\n",
    "            M = int(M)\n",
    "            N = int(N)\n",
    "            im = (im/256).astype('uint8');\n",
    "            im = np.stack((im,im,im),axis=2);\n",
    "            tiles = [im[y-context_bounds[0]:y+M+context_bounds[2],x-context_bounds[1]:x+N+context_bounds[3]] \n",
    "                    for y in range(context_bounds[0]+crop[0],im.shape[0]-crop[0]-crop[2]-context_bounds[0]-context_bounds[2],M) \n",
    "                    for x in range(context_bounds[1]+crop[1],im.shape[1]-crop[1]-crop[3]-context_bounds[1]-context_bounds[3],N)];\n",
    "            # imBounds = [[y-context_bounds[0],y+M+context_bounds[2],x-context_bounds[1],x+N+context_bounds[3]] \n",
    "            #         for y in range(context_bounds[0]+crop[0],im.shape[0]-crop[0]-crop[2]-context_bounds[0]-context_bounds[2],M) \n",
    "            #         for x in range(context_bounds[1]+crop[1],im.shape[1]-crop[1]-crop[3]-context_bounds[1]-context_bounds[3],N)];\n",
    "            return tiles;\n",
    "    \n",
    "    def stitch_image(tiles,outName):\n",
    "        stitchMasks = []\n",
    "        for i,m in enumerate(tiles):\n",
    "            m = m.numpy().astype('uint8')\n",
    "            y = i // x_slices;\n",
    "            x = i % x_slices;\n",
    "            imBounds = [crop[0]+context_bounds[0] if y != 0 else 0,m.shape[0]-crop[2]-context_bounds[2] if y != y_slices-1 else m.shape[0],crop[1]+context_bounds[1] if x != 0 else 0 ,m.shape[1]-crop[3]-context_bounds[3] if x != x_slices - 1 else m.shape[1]];\n",
    "            stitchMasks.append(m[imBounds[0]:imBounds[1],imBounds[2]:imBounds[3]]);\n",
    "        stitched = np.concatenate([np.concatenate(stitchMasks[i*x_slices:(i+1)*x_slices],axis=1) for i in range(y_slices)]);\n",
    "        imsave(outName,stitched,check_contrast=False);\n",
    "    if files_remaining != 0:\n",
    "        files_changed = True;\n",
    "        stitching_complete = False;\n",
    "        prog = progress_bar(fileChunks,files_remaining//batchSize+1); #makes a progress bar\n",
    "        for n,chunk in enumerate(prog):\n",
    "            basenames = [os.path.relpath(c,local_segmentation_images) for c in chunk]; #preserve input directory structure\n",
    "            # print(basenames);\n",
    "            with Pool(cpus) as p:\n",
    "                chunk = [item for sublist in p.map(split_image,chunk) for item in sublist];\n",
    "            for models,out in process_instructions:\n",
    "                outputs = [];\n",
    "                for m in models:\n",
    "                    dl = m.dls.test_dl(chunk,num_workers=cpus);\n",
    "                    if torch.cuda.is_available():\n",
    "                        dl = m.dls.test_dl(chunk,num_workers=cpus,device='cuda');\n",
    "                        dl.to('cuda');\n",
    "                    _,_,dec_preds = m.get_preds(with_decoded=True,dl=dl);\n",
    "                    outputs.append(dec_preds);\n",
    "                if len(out) == len(outputs): #should also work for model splitting if can figure out how to make outputs the right shape\n",
    "                    for path,put in zip(out,outputs):\n",
    "                        grouped_preds = [put[i:i + x_slices*y_slices] for i in range(0, len(put), x_slices*y_slices)]\n",
    "                        saveNames = [path/b for b in basenames];\n",
    "                        with Pool(cpus) as p:\n",
    "                            p.starmap(stitch_image,zip(grouped_preds,saveNames));\n",
    "                else:\n",
    "                    print(\"ERROR: NOT IMPLEMENTED\");\n",
    "            if not persistent_files:\n",
    "                with capture_output() as capture:\n",
    "                    !gsutil -m rsync -r \"{local_segmentation_output_masks}\" \"gs://{gcp_segmentation_output_masks}\"\n",
    "            if process_logging: \n",
    "                try:\n",
    "                    time_remaining = format_time(prog.pred_t - prog.last_t + prog.start_t);\n",
    "                    logging.debug(f\"chunk {n} complete; time remaining: {time_remaining}\");\n",
    "                except Exception as e:\n",
    "                    logging.error(e);\n",
    "                    logging.debug(f\"chunk {n} complete\");\n",
    "    if not stitching_complete:\n",
    "        print(\"image segmentation process complete, finishing up...\");\n",
    "        with open(local_segmentation_output_masks/'segmentation_complete.flag','w') as f:\n",
    "            pass;\n",
    "        #zip files if required\n",
    "        if zip_output:\n",
    "            if not persistent_files or (partial_upload and files_changed):\n",
    "                print(\"downloading remote files to zip...\");\n",
    "                #download external files\n",
    "                with capture_output() as capture:\n",
    "                    !gsutil -m rsync -r \"gs://{gcp_segmentation_output_masks}\" \"{local_segmentation_output_masks}\"\n",
    "            print(\"zipping files...\")\n",
    "            for folder in progress_bar(output_dirs):\n",
    "                if files_changed or not os.path.exists(folder.with_suffix('.zip')):\n",
    "                    with capture_output() as capture:\n",
    "                    # import platform\n",
    "                    # with nullcontext():\n",
    "                        cmd_zip(folder,folder.with_suffix('.zip'),relative_to=folder.parent,recurse=True)\n",
    "                        # !(cd \"{folder.parent}\" && {zipcommand} \"{folder.with_suffix('.zip').name}\" \"{folder.name}\")\n",
    "                        !gsutil -m cp \"{folder.with_suffix('.zip')}\" \"gs://{gcp_segmentation_output_masks/folder.with_suffix('.zip').name}\"\n",
    "        print(\"copying files to remote...\");\n",
    "        with capture_output() as capture:\n",
    "            !gsutil -m rsync -r \"{local_segmentation_output_masks}\" \"gs://{gcp_segmentation_output_masks}\"\n",
    "        stitching_complete = True;\n",
    "        if process_logging: logging.debug(\"segmentation complete, awaiting integrity verification\");\n",
    "        print(\"segmentation complete!\");\n",
    "    else:\n",
    "        print(\"segmentation already complete!\");\n",
    "        stitching_complete = True;"
   ]
  },
  {
   "cell_type": "code",
   "execution_count": 75,
   "metadata": {},
   "outputs": [],
   "source": [
    "from contextlib import nullcontext"
   ]
  },
  {
   "cell_type": "code",
   "execution_count": 97,
   "metadata": {
    "tags": []
   },
   "outputs": [
    {
     "data": {
      "text/html": [
       "\n",
       "<style>\n",
       "    /* Turns off some styling */\n",
       "    progress {\n",
       "        /* gets rid of default border in Firefox and Opera. */\n",
       "        border: none;\n",
       "        /* Needs to be in here for Safari polyfill so background images work as expected. */\n",
       "        background-size: auto;\n",
       "    }\n",
       "    progress:not([value]), progress:not([value])::-webkit-progress-bar {\n",
       "        background: repeating-linear-gradient(45deg, #7e7e7e, #7e7e7e 10px, #5c5c5c 10px, #5c5c5c 20px);\n",
       "    }\n",
       "    .progress-bar-interrupted, .progress-bar-interrupted::-webkit-progress-bar {\n",
       "        background: #F44336;\n",
       "    }\n",
       "</style>\n"
      ],
      "text/plain": [
       "<IPython.core.display.HTML object>"
      ]
     },
     "metadata": {},
     "output_type": "display_data"
    },
    {
     "data": {
      "text/html": [
       "\n",
       "    <div>\n",
       "      <progress value='1' class='' max='1' style='width:300px; height:20px; vertical-align: middle;'></progress>\n",
       "      100.00% [1/1 00:02&lt;00:00]\n",
       "    </div>\n",
       "    "
      ],
      "text/plain": [
       "<IPython.core.display.HTML object>"
      ]
     },
     "metadata": {},
     "output_type": "display_data"
    },
    {
     "name": "stdout",
     "output_type": "stream",
     "text": [
      "2024 2023\n",
      "[('p_s1_t1.TIF', 'p_s1_t1.TIF'), ('p_s1_t10.TIF', 'p_s1_t10.TIF'), ('p_s1_t100.TIF', 'p_s1_t100.TIF'), ('p_s1_t101.TIF', 'p_s1_t101.TIF'), ('p_s1_t102.TIF', 'p_s1_t102.TIF'), ('p_s1_t103.TIF', 'p_s1_t103.TIF'), ('p_s1_t104.TIF', 'p_s1_t104.TIF'), ('p_s1_t105.TIF', 'p_s1_t105.TIF'), ('p_s1_t106.TIF', 'p_s1_t106.TIF'), ('p_s1_t107.TIF', 'p_s1_t107.TIF'), ('p_s1_t108.TIF', 'p_s1_t108.TIF'), ('p_s1_t109.TIF', 'p_s1_t109.TIF'), ('p_s1_t11.TIF', 'p_s1_t11.TIF'), ('p_s1_t110.TIF', 'p_s1_t110.TIF'), ('p_s1_t111.TIF', 'p_s1_t111.TIF'), ('p_s1_t112.TIF', 'p_s1_t112.TIF'), ('p_s1_t113.TIF', 'p_s1_t113.TIF'), ('p_s1_t114.TIF', 'p_s1_t114.TIF'), ('p_s1_t115.TIF', 'p_s1_t115.TIF'), ('p_s1_t116.TIF', 'p_s1_t116.TIF')]\n",
      "['p_s1_t1.TIF', 'p_s1_t10.TIF', 'p_s1_t100.TIF', 'p_s1_t101.TIF', 'p_s1_t102.TIF', 'p_s1_t103.TIF', 'p_s1_t104.TIF', 'p_s1_t105.TIF', 'p_s1_t106.TIF', 'p_s1_t107.TIF', 'p_s1_t108.TIF', 'p_s1_t109.TIF', 'p_s1_t11.TIF', 'p_s1_t110.TIF', 'p_s1_t111.TIF', 'p_s1_t112.TIF', 'p_s1_t113.TIF', 'p_s1_t114.TIF', 'p_s1_t115.TIF', 'p_s1_t116.TIF', 'p_s1_t117.TIF', 'p_s1_t118.TIF', 'p_s1_t119.TIF', 'p_s1_t12.TIF', 'p_s1_t120.TIF', 'p_s1_t121.TIF', 'p_s1_t122.TIF', 'p_s1_t123.TIF', 'p_s1_t124.TIF', 'p_s1_t125.TIF', 'p_s1_t126.TIF', 'p_s1_t127.TIF', 'p_s1_t128.TIF', 'p_s1_t129.TIF', 'p_s1_t13.TIF', 'p_s1_t130.TIF', 'p_s1_t131.TIF', 'p_s1_t132.TIF', 'p_s1_t133.TIF', 'p_s1_t134.TIF', 'p_s1_t135.TIF', 'p_s1_t136.TIF', 'p_s1_t137.TIF', 'p_s1_t138.TIF', 'p_s1_t139.TIF', 'p_s1_t14.TIF', 'p_s1_t140.TIF', 'p_s1_t141.TIF', 'p_s1_t142.TIF', 'p_s1_t143.TIF', 'p_s1_t144.TIF', 'p_s1_t145.TIF', 'p_s1_t146.TIF', 'p_s1_t147.TIF', 'p_s1_t148.TIF', 'p_s1_t149.TIF', 'p_s1_t15.TIF', 'p_s1_t150.TIF', 'p_s1_t151.TIF', 'p_s1_t152.TIF', 'p_s1_t153.TIF', 'p_s1_t154.TIF', 'p_s1_t155.TIF', 'p_s1_t156.TIF', 'p_s1_t157.TIF', 'p_s1_t158.TIF', 'p_s1_t159.TIF', 'p_s1_t16.TIF', 'p_s1_t160.TIF', 'p_s1_t161.TIF', 'p_s1_t162.TIF', 'p_s1_t163.TIF', 'p_s1_t164.TIF', 'p_s1_t165.TIF', 'p_s1_t166.TIF', 'p_s1_t167.TIF', 'p_s1_t168.TIF', 'p_s1_t169.TIF', 'p_s1_t17.TIF', 'p_s1_t170.TIF', 'p_s1_t171.TIF', 'p_s1_t172.TIF', 'p_s1_t173.TIF', 'p_s1_t174.TIF', 'p_s1_t175.TIF', 'p_s1_t176.TIF', 'p_s1_t177.TIF', 'p_s1_t178.TIF', 'p_s1_t179.TIF', 'p_s1_t18.TIF', 'p_s1_t180.TIF', 'p_s1_t181.TIF', 'p_s1_t182.TIF', 'p_s1_t183.TIF', 'p_s1_t184.TIF', 'p_s1_t185.TIF', 'p_s1_t186.TIF', 'p_s1_t187.TIF', 'p_s1_t188.TIF', 'p_s1_t189.TIF', 'p_s1_t19.TIF', 'p_s1_t190.TIF', 'p_s1_t191.TIF', 'p_s1_t192.TIF', 'p_s1_t193.TIF', 'p_s1_t194.TIF', 'p_s1_t195.TIF', 'p_s1_t196.TIF', 'p_s1_t197.TIF', 'p_s1_t198.TIF', 'p_s1_t199.TIF', 'p_s1_t2.TIF', 'p_s1_t20.TIF', 'p_s1_t200.TIF', 'p_s1_t201.TIF', 'p_s1_t202.TIF', 'p_s1_t203.TIF', 'p_s1_t204.TIF', 'p_s1_t205.TIF', 'p_s1_t206.TIF', 'p_s1_t207.TIF', 'p_s1_t208.TIF', 'p_s1_t209.TIF', 'p_s1_t21.TIF', 'p_s1_t210.TIF', 'p_s1_t211.TIF', 'p_s1_t212.TIF', 'p_s1_t213.TIF', 'p_s1_t214.TIF', 'p_s1_t215.TIF', 'p_s1_t216.TIF', 'p_s1_t217.TIF', 'p_s1_t218.TIF', 'p_s1_t219.TIF', 'p_s1_t22.TIF', 'p_s1_t220.TIF', 'p_s1_t221.TIF', 'p_s1_t222.TIF', 'p_s1_t223.TIF', 'p_s1_t224.TIF', 'p_s1_t225.TIF', 'p_s1_t226.TIF', 'p_s1_t227.TIF', 'p_s1_t228.TIF', 'p_s1_t229.TIF', 'p_s1_t23.TIF', 'p_s1_t230.TIF', 'p_s1_t231.TIF', 'p_s1_t232.TIF', 'p_s1_t233.TIF', 'p_s1_t234.TIF', 'p_s1_t235.TIF', 'p_s1_t236.TIF', 'p_s1_t237.TIF', 'p_s1_t238.TIF', 'p_s1_t239.TIF', 'p_s1_t24.TIF', 'p_s1_t240.TIF', 'p_s1_t241.TIF', 'p_s1_t242.TIF', 'p_s1_t243.TIF', 'p_s1_t244.TIF', 'p_s1_t245.TIF', 'p_s1_t246.TIF', 'p_s1_t247.TIF', 'p_s1_t248.TIF', 'p_s1_t249.TIF', 'p_s1_t25.TIF', 'p_s1_t250.TIF', 'p_s1_t251.TIF', 'p_s1_t252.TIF', 'p_s1_t253.TIF', 'p_s1_t254.TIF', 'p_s1_t255.TIF', 'p_s1_t256.TIF', 'p_s1_t257.TIF', 'p_s1_t258.TIF', 'p_s1_t259.TIF', 'p_s1_t26.TIF', 'p_s1_t260.TIF', 'p_s1_t261.TIF', 'p_s1_t262.TIF', 'p_s1_t263.TIF', 'p_s1_t264.TIF', 'p_s1_t265.TIF', 'p_s1_t266.TIF', 'p_s1_t267.TIF', 'p_s1_t268.TIF', 'p_s1_t269.TIF', 'p_s1_t27.TIF', 'p_s1_t270.TIF', 'p_s1_t271.TIF', 'p_s1_t272.TIF', 'p_s1_t273.TIF', 'p_s1_t274.TIF', 'p_s1_t275.TIF', 'p_s1_t276.TIF', 'p_s1_t277.TIF', 'p_s1_t278.TIF', 'p_s1_t279.TIF', 'p_s1_t28.TIF', 'p_s1_t280.TIF', 'p_s1_t281.TIF', 'p_s1_t282.TIF', 'p_s1_t283.TIF', 'p_s1_t284.TIF', 'p_s1_t285.TIF', 'p_s1_t286.TIF', 'p_s1_t287.TIF', 'p_s1_t288.TIF', 'p_s1_t289.TIF', 'p_s1_t29.TIF', 'p_s1_t3.TIF', 'p_s1_t30.TIF', 'p_s1_t31.TIF', 'p_s1_t32.TIF', 'p_s1_t33.TIF', 'p_s1_t34.TIF', 'p_s1_t35.TIF', 'p_s1_t36.TIF', 'p_s1_t37.TIF', 'p_s1_t38.TIF', 'p_s1_t39.TIF', 'p_s1_t4.TIF', 'p_s1_t40.TIF', 'p_s1_t41.TIF', 'p_s1_t42.TIF', 'p_s1_t43.TIF', 'p_s1_t44.TIF', 'p_s1_t45.TIF', 'p_s1_t46.TIF', 'p_s1_t47.TIF', 'p_s1_t48.TIF', 'p_s1_t49.TIF', 'p_s1_t5.TIF', 'p_s1_t50.TIF', 'p_s1_t51.TIF', 'p_s1_t52.TIF', 'p_s1_t53.TIF', 'p_s1_t54.TIF', 'p_s1_t55.TIF', 'p_s1_t56.TIF', 'p_s1_t57.TIF', 'p_s1_t58.TIF', 'p_s1_t59.TIF', 'p_s1_t6.TIF', 'p_s1_t60.TIF', 'p_s1_t61.TIF', 'p_s1_t62.TIF', 'p_s1_t63.TIF', 'p_s1_t64.TIF', 'p_s1_t65.TIF', 'p_s1_t66.TIF', 'p_s1_t67.TIF', 'p_s1_t68.TIF', 'p_s1_t69.TIF', 'p_s1_t7.TIF', 'p_s1_t70.TIF', 'p_s1_t71.TIF', 'p_s1_t72.TIF', 'p_s1_t73.TIF', 'p_s1_t74.TIF', 'p_s1_t75.TIF', 'p_s1_t76.TIF', 'p_s1_t77.TIF', 'p_s1_t78.TIF', 'p_s1_t79.TIF', 'p_s1_t8.TIF', 'p_s1_t80.TIF', 'p_s1_t81.TIF', 'p_s1_t82.TIF', 'p_s1_t83.TIF', 'p_s1_t84.TIF', 'p_s1_t85.TIF', 'p_s1_t86.TIF', 'p_s1_t87.TIF', 'p_s1_t88.TIF', 'p_s1_t89.TIF', 'p_s1_t9.TIF', 'p_s1_t90.TIF', 'p_s1_t91.TIF', 'p_s1_t92.TIF', 'p_s1_t93.TIF', 'p_s1_t94.TIF', 'p_s1_t95.TIF', 'p_s1_t96.TIF', 'p_s1_t97.TIF', 'p_s1_t98.TIF', 'p_s1_t99.TIF', 'p_s2_t1.TIF', 'p_s2_t10.TIF', 'p_s2_t100.TIF', 'p_s2_t101.TIF', 'p_s2_t102.TIF', 'p_s2_t103.TIF', 'p_s2_t104.TIF', 'p_s2_t105.TIF', 'p_s2_t106.TIF', 'p_s2_t107.TIF', 'p_s2_t108.TIF', 'p_s2_t109.TIF', 'p_s2_t11.TIF', 'p_s2_t110.TIF', 'p_s2_t111.TIF', 'p_s2_t112.TIF', 'p_s2_t113.TIF', 'p_s2_t114.TIF', 'p_s2_t115.TIF', 'p_s2_t116.TIF', 'p_s2_t117.TIF', 'p_s2_t118.TIF', 'p_s2_t119.TIF', 'p_s2_t12.TIF', 'p_s2_t120.TIF', 'p_s2_t121.TIF', 'p_s2_t122.TIF', 'p_s2_t123.TIF', 'p_s2_t124.TIF', 'p_s2_t125.TIF', 'p_s2_t126.TIF', 'p_s2_t127.TIF', 'p_s2_t128.TIF', 'p_s2_t129.TIF', 'p_s2_t13.TIF', 'p_s2_t130.TIF', 'p_s2_t131.TIF', 'p_s2_t132.TIF', 'p_s2_t133.TIF', 'p_s2_t134.TIF', 'p_s2_t135.TIF', 'p_s2_t136.TIF', 'p_s2_t137.TIF', 'p_s2_t138.TIF', 'p_s2_t139.TIF', 'p_s2_t14.TIF', 'p_s2_t140.TIF', 'p_s2_t141.TIF', 'p_s2_t142.TIF', 'p_s2_t143.TIF', 'p_s2_t144.TIF', 'p_s2_t145.TIF', 'p_s2_t146.TIF', 'p_s2_t147.TIF', 'p_s2_t148.TIF', 'p_s2_t149.TIF', 'p_s2_t15.TIF', 'p_s2_t150.TIF', 'p_s2_t151.TIF', 'p_s2_t152.TIF', 'p_s2_t153.TIF', 'p_s2_t154.TIF', 'p_s2_t155.TIF', 'p_s2_t156.TIF', 'p_s2_t157.TIF', 'p_s2_t158.TIF', 'p_s2_t159.TIF', 'p_s2_t16.TIF', 'p_s2_t160.TIF', 'p_s2_t161.TIF', 'p_s2_t162.TIF', 'p_s2_t163.TIF', 'p_s2_t164.TIF', 'p_s2_t165.TIF', 'p_s2_t166.TIF', 'p_s2_t167.TIF', 'p_s2_t168.TIF', 'p_s2_t169.TIF', 'p_s2_t17.TIF', 'p_s2_t170.TIF', 'p_s2_t171.TIF', 'p_s2_t172.TIF', 'p_s2_t173.TIF', 'p_s2_t174.TIF', 'p_s2_t175.TIF', 'p_s2_t176.TIF', 'p_s2_t177.TIF', 'p_s2_t178.TIF', 'p_s2_t179.TIF', 'p_s2_t18.TIF', 'p_s2_t180.TIF', 'p_s2_t181.TIF', 'p_s2_t182.TIF', 'p_s2_t183.TIF', 'p_s2_t184.TIF', 'p_s2_t185.TIF', 'p_s2_t186.TIF', 'p_s2_t187.TIF', 'p_s2_t188.TIF', 'p_s2_t189.TIF', 'p_s2_t19.TIF', 'p_s2_t190.TIF', 'p_s2_t191.TIF', 'p_s2_t192.TIF', 'p_s2_t193.TIF', 'p_s2_t194.TIF', 'p_s2_t195.TIF', 'p_s2_t196.TIF', 'p_s2_t197.TIF', 'p_s2_t198.TIF', 'p_s2_t199.TIF', 'p_s2_t2.TIF', 'p_s2_t20.TIF', 'p_s2_t200.TIF', 'p_s2_t201.TIF', 'p_s2_t202.TIF', 'p_s2_t203.TIF', 'p_s2_t204.TIF', 'p_s2_t205.TIF', 'p_s2_t206.TIF', 'p_s2_t207.TIF', 'p_s2_t208.TIF', 'p_s2_t209.TIF', 'p_s2_t21.TIF', 'p_s2_t210.TIF', 'p_s2_t211.TIF', 'p_s2_t212.TIF', 'p_s2_t213.TIF', 'p_s2_t214.TIF', 'p_s2_t215.TIF', 'p_s2_t216.TIF', 'p_s2_t217.TIF', 'p_s2_t218.TIF', 'p_s2_t219.TIF', 'p_s2_t22.TIF', 'p_s2_t220.TIF', 'p_s2_t221.TIF', 'p_s2_t222.TIF', 'p_s2_t223.TIF', 'p_s2_t224.TIF', 'p_s2_t225.TIF', 'p_s2_t226.TIF', 'p_s2_t227.TIF', 'p_s2_t228.TIF', 'p_s2_t229.TIF', 'p_s2_t23.TIF', 'p_s2_t230.TIF', 'p_s2_t231.TIF', 'p_s2_t232.TIF', 'p_s2_t233.TIF', 'p_s2_t234.TIF', 'p_s2_t235.TIF', 'p_s2_t236.TIF', 'p_s2_t237.TIF', 'p_s2_t238.TIF', 'p_s2_t239.TIF', 'p_s2_t24.TIF', 'p_s2_t240.TIF', 'p_s2_t241.TIF', 'p_s2_t242.TIF', 'p_s2_t243.TIF', 'p_s2_t244.TIF', 'p_s2_t245.TIF', 'p_s2_t246.TIF', 'p_s2_t247.TIF', 'p_s2_t248.TIF', 'p_s2_t249.TIF', 'p_s2_t25.TIF', 'p_s2_t250.TIF', 'p_s2_t251.TIF', 'p_s2_t252.TIF', 'p_s2_t253.TIF', 'p_s2_t254.TIF', 'p_s2_t255.TIF', 'p_s2_t256.TIF', 'p_s2_t257.TIF', 'p_s2_t258.TIF', 'p_s2_t259.TIF', 'p_s2_t26.TIF', 'p_s2_t260.TIF', 'p_s2_t261.TIF', 'p_s2_t262.TIF', 'p_s2_t263.TIF', 'p_s2_t264.TIF', 'p_s2_t265.TIF', 'p_s2_t266.TIF', 'p_s2_t267.TIF', 'p_s2_t268.TIF', 'p_s2_t269.TIF', 'p_s2_t27.TIF', 'p_s2_t270.TIF', 'p_s2_t271.TIF', 'p_s2_t272.TIF', 'p_s2_t273.TIF', 'p_s2_t274.TIF', 'p_s2_t275.TIF', 'p_s2_t276.TIF', 'p_s2_t277.TIF', 'p_s2_t278.TIF', 'p_s2_t279.TIF', 'p_s2_t28.TIF', 'p_s2_t280.TIF', 'p_s2_t281.TIF', 'p_s2_t282.TIF', 'p_s2_t283.TIF', 'p_s2_t284.TIF', 'p_s2_t285.TIF', 'p_s2_t286.TIF', 'p_s2_t287.TIF', 'p_s2_t288.TIF', 'p_s2_t289.TIF', 'p_s2_t29.TIF', 'p_s2_t3.TIF', 'p_s2_t30.TIF', 'p_s2_t31.TIF', 'p_s2_t32.TIF', 'p_s2_t33.TIF', 'p_s2_t34.TIF', 'p_s2_t35.TIF', 'p_s2_t36.TIF', 'p_s2_t37.TIF', 'p_s2_t38.TIF', 'p_s2_t39.TIF', 'p_s2_t4.TIF', 'p_s2_t40.TIF', 'p_s2_t41.TIF', 'p_s2_t42.TIF', 'p_s2_t43.TIF', 'p_s2_t44.TIF', 'p_s2_t45.TIF', 'p_s2_t46.TIF', 'p_s2_t47.TIF', 'p_s2_t48.TIF', 'p_s2_t49.TIF', 'p_s2_t5.TIF', 'p_s2_t50.TIF', 'p_s2_t51.TIF', 'p_s2_t52.TIF', 'p_s2_t53.TIF', 'p_s2_t54.TIF', 'p_s2_t55.TIF', 'p_s2_t56.TIF', 'p_s2_t57.TIF', 'p_s2_t58.TIF', 'p_s2_t59.TIF', 'p_s2_t6.TIF', 'p_s2_t60.TIF', 'p_s2_t61.TIF', 'p_s2_t62.TIF', 'p_s2_t63.TIF', 'p_s2_t64.TIF', 'p_s2_t65.TIF', 'p_s2_t66.TIF', 'p_s2_t67.TIF', 'p_s2_t68.TIF', 'p_s2_t69.TIF', 'p_s2_t7.TIF', 'p_s2_t70.TIF', 'p_s2_t71.TIF', 'p_s2_t72.TIF', 'p_s2_t73.TIF', 'p_s2_t74.TIF', 'p_s2_t75.TIF', 'p_s2_t76.TIF', 'p_s2_t77.TIF', 'p_s2_t78.TIF', 'p_s2_t79.TIF', 'p_s2_t8.TIF', 'p_s2_t80.TIF', 'p_s2_t81.TIF', 'p_s2_t82.TIF', 'p_s2_t83.TIF', 'p_s2_t84.TIF', 'p_s2_t85.TIF', 'p_s2_t86.TIF', 'p_s2_t87.TIF', 'p_s2_t88.TIF', 'p_s2_t89.TIF', 'p_s2_t9.TIF', 'p_s2_t90.TIF', 'p_s2_t91.TIF', 'p_s2_t92.TIF', 'p_s2_t93.TIF', 'p_s2_t94.TIF', 'p_s2_t95.TIF', 'p_s2_t96.TIF', 'p_s2_t97.TIF', 'p_s2_t98.TIF', 'p_s2_t99.TIF', 'p_s3_t1.TIF', 'p_s3_t10.TIF', 'p_s3_t100.TIF', 'p_s3_t101.TIF', 'p_s3_t102.TIF', 'p_s3_t103.TIF', 'p_s3_t104.TIF', 'p_s3_t105.TIF', 'p_s3_t106.TIF', 'p_s3_t107.TIF', 'p_s3_t108.TIF', 'p_s3_t109.TIF', 'p_s3_t11.TIF', 'p_s3_t110.TIF', 'p_s3_t111.TIF', 'p_s3_t112.TIF', 'p_s3_t113.TIF', 'p_s3_t114.TIF', 'p_s3_t115.TIF', 'p_s3_t116.TIF', 'p_s3_t117.TIF', 'p_s3_t118.TIF', 'p_s3_t119.TIF', 'p_s3_t12.TIF', 'p_s3_t120.TIF', 'p_s3_t121.TIF', 'p_s3_t122.TIF', 'p_s3_t123.TIF', 'p_s3_t124.TIF', 'p_s3_t125.TIF', 'p_s3_t126.TIF', 'p_s3_t127.TIF', 'p_s3_t128.TIF', 'p_s3_t129.TIF', 'p_s3_t13.TIF', 'p_s3_t130.TIF', 'p_s3_t131.TIF', 'p_s3_t132.TIF', 'p_s3_t133.TIF', 'p_s3_t134.TIF', 'p_s3_t135.TIF', 'p_s3_t136.TIF', 'p_s3_t137.TIF', 'p_s3_t138.TIF', 'p_s3_t139.TIF', 'p_s3_t14.TIF', 'p_s3_t140.TIF', 'p_s3_t141.TIF', 'p_s3_t142.TIF', 'p_s3_t143.TIF', 'p_s3_t144.TIF', 'p_s3_t145.TIF', 'p_s3_t146.TIF', 'p_s3_t147.TIF', 'p_s3_t148.TIF', 'p_s3_t149.TIF', 'p_s3_t15.TIF', 'p_s3_t150.TIF', 'p_s3_t151.TIF', 'p_s3_t152.TIF', 'p_s3_t153.TIF', 'p_s3_t154.TIF', 'p_s3_t155.TIF', 'p_s3_t156.TIF', 'p_s3_t157.TIF', 'p_s3_t158.TIF', 'p_s3_t159.TIF', 'p_s3_t16.TIF', 'p_s3_t160.TIF', 'p_s3_t161.TIF', 'p_s3_t162.TIF', 'p_s3_t163.TIF', 'p_s3_t164.TIF', 'p_s3_t165.TIF', 'p_s3_t166.TIF', 'p_s3_t167.TIF', 'p_s3_t168.TIF', 'p_s3_t169.TIF', 'p_s3_t17.TIF', 'p_s3_t170.TIF', 'p_s3_t171.TIF', 'p_s3_t172.TIF', 'p_s3_t173.TIF', 'p_s3_t174.TIF', 'p_s3_t175.TIF', 'p_s3_t176.TIF', 'p_s3_t177.TIF', 'p_s3_t178.TIF', 'p_s3_t179.TIF', 'p_s3_t18.TIF', 'p_s3_t180.TIF', 'p_s3_t181.TIF', 'p_s3_t182.TIF', 'p_s3_t183.TIF', 'p_s3_t184.TIF', 'p_s3_t185.TIF', 'p_s3_t186.TIF', 'p_s3_t187.TIF', 'p_s3_t188.TIF', 'p_s3_t189.TIF', 'p_s3_t19.TIF', 'p_s3_t190.TIF', 'p_s3_t191.TIF', 'p_s3_t192.TIF', 'p_s3_t193.TIF', 'p_s3_t194.TIF', 'p_s3_t195.TIF', 'p_s3_t196.TIF', 'p_s3_t197.TIF', 'p_s3_t198.TIF', 'p_s3_t199.TIF', 'p_s3_t2.TIF', 'p_s3_t20.TIF', 'p_s3_t200.TIF', 'p_s3_t201.TIF', 'p_s3_t202.TIF', 'p_s3_t203.TIF', 'p_s3_t204.TIF', 'p_s3_t205.TIF', 'p_s3_t206.TIF', 'p_s3_t207.TIF', 'p_s3_t208.TIF', 'p_s3_t209.TIF', 'p_s3_t21.TIF', 'p_s3_t210.TIF', 'p_s3_t211.TIF', 'p_s3_t212.TIF', 'p_s3_t213.TIF', 'p_s3_t214.TIF', 'p_s3_t215.TIF', 'p_s3_t216.TIF', 'p_s3_t217.TIF', 'p_s3_t218.TIF', 'p_s3_t219.TIF', 'p_s3_t22.TIF', 'p_s3_t220.TIF', 'p_s3_t221.TIF', 'p_s3_t222.TIF', 'p_s3_t223.TIF', 'p_s3_t224.TIF', 'p_s3_t225.TIF', 'p_s3_t226.TIF', 'p_s3_t227.TIF', 'p_s3_t228.TIF', 'p_s3_t229.TIF', 'p_s3_t23.TIF', 'p_s3_t230.TIF', 'p_s3_t231.TIF', 'p_s3_t232.TIF', 'p_s3_t233.TIF', 'p_s3_t234.TIF', 'p_s3_t235.TIF', 'p_s3_t236.TIF', 'p_s3_t237.TIF', 'p_s3_t238.TIF', 'p_s3_t239.TIF', 'p_s3_t24.TIF', 'p_s3_t240.TIF', 'p_s3_t241.TIF', 'p_s3_t242.TIF', 'p_s3_t243.TIF', 'p_s3_t244.TIF', 'p_s3_t245.TIF', 'p_s3_t246.TIF', 'p_s3_t247.TIF', 'p_s3_t248.TIF', 'p_s3_t249.TIF', 'p_s3_t25.TIF', 'p_s3_t250.TIF', 'p_s3_t251.TIF', 'p_s3_t252.TIF', 'p_s3_t253.TIF', 'p_s3_t254.TIF', 'p_s3_t255.TIF', 'p_s3_t256.TIF', 'p_s3_t257.TIF', 'p_s3_t258.TIF', 'p_s3_t259.TIF', 'p_s3_t26.TIF', 'p_s3_t260.TIF', 'p_s3_t261.TIF', 'p_s3_t262.TIF', 'p_s3_t263.TIF', 'p_s3_t264.TIF', 'p_s3_t265.TIF', 'p_s3_t266.TIF', 'p_s3_t267.TIF', 'p_s3_t268.TIF', 'p_s3_t269.TIF', 'p_s3_t27.TIF', 'p_s3_t270.TIF', 'p_s3_t271.TIF', 'p_s3_t272.TIF', 'p_s3_t273.TIF', 'p_s3_t274.TIF', 'p_s3_t275.TIF', 'p_s3_t276.TIF', 'p_s3_t277.TIF', 'p_s3_t278.TIF', 'p_s3_t279.TIF', 'p_s3_t28.TIF', 'p_s3_t280.TIF', 'p_s3_t281.TIF', 'p_s3_t282.TIF', 'p_s3_t283.TIF', 'p_s3_t284.TIF', 'p_s3_t285.TIF', 'p_s3_t286.TIF', 'p_s3_t287.TIF', 'p_s3_t288.TIF', 'p_s3_t289.TIF', 'p_s3_t29.TIF', 'p_s3_t3.TIF', 'p_s3_t30.TIF', 'p_s3_t31.TIF', 'p_s3_t32.TIF', 'p_s3_t33.TIF', 'p_s3_t34.TIF', 'p_s3_t35.TIF', 'p_s3_t36.TIF', 'p_s3_t37.TIF', 'p_s3_t38.TIF', 'p_s3_t39.TIF', 'p_s3_t4.TIF', 'p_s3_t40.TIF', 'p_s3_t41.TIF', 'p_s3_t42.TIF', 'p_s3_t43.TIF', 'p_s3_t44.TIF', 'p_s3_t45.TIF', 'p_s3_t46.TIF', 'p_s3_t47.TIF', 'p_s3_t48.TIF', 'p_s3_t49.TIF', 'p_s3_t5.TIF', 'p_s3_t50.TIF', 'p_s3_t51.TIF', 'p_s3_t52.TIF', 'p_s3_t53.TIF', 'p_s3_t54.TIF', 'p_s3_t55.TIF', 'p_s3_t56.TIF', 'p_s3_t57.TIF', 'p_s3_t58.TIF', 'p_s3_t59.TIF', 'p_s3_t6.TIF', 'p_s3_t60.TIF', 'p_s3_t61.TIF', 'p_s3_t62.TIF', 'p_s3_t63.TIF', 'p_s3_t64.TIF', 'p_s3_t65.TIF', 'p_s3_t66.TIF', 'p_s3_t67.TIF', 'p_s3_t68.TIF', 'p_s3_t69.TIF', 'p_s3_t7.TIF', 'p_s3_t70.TIF', 'p_s3_t71.TIF', 'p_s3_t72.TIF', 'p_s3_t73.TIF', 'p_s3_t74.TIF', 'p_s3_t75.TIF', 'p_s3_t76.TIF', 'p_s3_t77.TIF', 'p_s3_t78.TIF', 'p_s3_t79.TIF', 'p_s3_t8.TIF', 'p_s3_t80.TIF', 'p_s3_t81.TIF', 'p_s3_t82.TIF', 'p_s3_t83.TIF', 'p_s3_t84.TIF', 'p_s3_t85.TIF', 'p_s3_t86.TIF', 'p_s3_t87.TIF', 'p_s3_t88.TIF', 'p_s3_t89.TIF', 'p_s3_t9.TIF', 'p_s3_t90.TIF', 'p_s3_t91.TIF', 'p_s3_t92.TIF', 'p_s3_t93.TIF', 'p_s3_t94.TIF', 'p_s3_t95.TIF', 'p_s3_t96.TIF', 'p_s3_t97.TIF', 'p_s3_t98.TIF', 'p_s3_t99.TIF', 'p_s4_t1.TIF', 'p_s4_t10.TIF', 'p_s4_t100.TIF', 'p_s4_t101.TIF', 'p_s4_t102.TIF', 'p_s4_t103.TIF', 'p_s4_t104.TIF', 'p_s4_t105.TIF', 'p_s4_t106.TIF', 'p_s4_t107.TIF', 'p_s4_t108.TIF', 'p_s4_t109.TIF', 'p_s4_t11.TIF', 'p_s4_t110.TIF', 'p_s4_t111.TIF', 'p_s4_t112.TIF', 'p_s4_t113.TIF', 'p_s4_t114.TIF', 'p_s4_t115.TIF', 'p_s4_t116.TIF', 'p_s4_t117.TIF', 'p_s4_t118.TIF', 'p_s4_t119.TIF', 'p_s4_t12.TIF', 'p_s4_t120.TIF', 'p_s4_t121.TIF', 'p_s4_t122.TIF', 'p_s4_t123.TIF', 'p_s4_t124.TIF', 'p_s4_t125.TIF', 'p_s4_t126.TIF', 'p_s4_t127.TIF', 'p_s4_t128.TIF', 'p_s4_t129.TIF', 'p_s4_t13.TIF', 'p_s4_t130.TIF', 'p_s4_t131.TIF', 'p_s4_t132.TIF', 'p_s4_t133.TIF', 'p_s4_t134.TIF', 'p_s4_t135.TIF', 'p_s4_t136.TIF', 'p_s4_t137.TIF', 'p_s4_t138.TIF', 'p_s4_t139.TIF', 'p_s4_t14.TIF', 'p_s4_t140.TIF', 'p_s4_t141.TIF', 'p_s4_t142.TIF', 'p_s4_t143.TIF', 'p_s4_t144.TIF', 'p_s4_t145.TIF', 'p_s4_t146.TIF', 'p_s4_t147.TIF', 'p_s4_t148.TIF', 'p_s4_t149.TIF', 'p_s4_t15.TIF', 'p_s4_t150.TIF', 'p_s4_t151.TIF', 'p_s4_t152.TIF', 'p_s4_t153.TIF', 'p_s4_t154.TIF', 'p_s4_t155.TIF', 'p_s4_t156.TIF', 'p_s4_t157.TIF', 'p_s4_t158.TIF', 'p_s4_t159.TIF', 'p_s4_t16.TIF', 'p_s4_t160.TIF', 'p_s4_t161.TIF', 'p_s4_t162.TIF', 'p_s4_t163.TIF', 'p_s4_t164.TIF', 'p_s4_t165.TIF', 'p_s4_t166.TIF', 'p_s4_t167.TIF', 'p_s4_t168.TIF', 'p_s4_t169.TIF', 'p_s4_t17.TIF', 'p_s4_t170.TIF', 'p_s4_t171.TIF', 'p_s4_t172.TIF', 'p_s4_t173.TIF', 'p_s4_t174.TIF', 'p_s4_t175.TIF', 'p_s4_t176.TIF', 'p_s4_t177.TIF', 'p_s4_t178.TIF', 'p_s4_t179.TIF', 'p_s4_t18.TIF', 'p_s4_t180.TIF', 'p_s4_t181.TIF', 'p_s4_t182.TIF', 'p_s4_t183.TIF', 'p_s4_t184.TIF', 'p_s4_t185.TIF', 'p_s4_t186.TIF', 'p_s4_t187.TIF', 'p_s4_t188.TIF', 'p_s4_t189.TIF', 'p_s4_t19.TIF', 'p_s4_t190.TIF', 'p_s4_t191.TIF', 'p_s4_t192.TIF', 'p_s4_t193.TIF', 'p_s4_t194.TIF', 'p_s4_t195.TIF', 'p_s4_t196.TIF', 'p_s4_t197.TIF', 'p_s4_t198.TIF', 'p_s4_t199.TIF', 'p_s4_t2.TIF', 'p_s4_t20.TIF', 'p_s4_t200.TIF', 'p_s4_t201.TIF', 'p_s4_t202.TIF', 'p_s4_t203.TIF', 'p_s4_t204.TIF', 'p_s4_t205.TIF', 'p_s4_t206.TIF', 'p_s4_t207.TIF', 'p_s4_t208.TIF', 'p_s4_t209.TIF', 'p_s4_t21.TIF', 'p_s4_t210.TIF', 'p_s4_t211.TIF', 'p_s4_t212.TIF', 'p_s4_t213.TIF', 'p_s4_t214.TIF', 'p_s4_t215.TIF', 'p_s4_t216.TIF', 'p_s4_t217.TIF', 'p_s4_t218.TIF', 'p_s4_t219.TIF', 'p_s4_t22.TIF', 'p_s4_t220.TIF', 'p_s4_t221.TIF', 'p_s4_t222.TIF', 'p_s4_t223.TIF', 'p_s4_t224.TIF', 'p_s4_t225.TIF', 'p_s4_t226.TIF', 'p_s4_t227.TIF', 'p_s4_t228.TIF', 'p_s4_t229.TIF', 'p_s4_t23.TIF', 'p_s4_t230.TIF', 'p_s4_t231.TIF', 'p_s4_t232.TIF', 'p_s4_t233.TIF', 'p_s4_t234.TIF', 'p_s4_t235.TIF', 'p_s4_t236.TIF', 'p_s4_t237.TIF', 'p_s4_t238.TIF', 'p_s4_t239.TIF', 'p_s4_t24.TIF', 'p_s4_t240.TIF', 'p_s4_t241.TIF', 'p_s4_t242.TIF', 'p_s4_t243.TIF', 'p_s4_t244.TIF', 'p_s4_t245.TIF', 'p_s4_t246.TIF', 'p_s4_t247.TIF', 'p_s4_t248.TIF', 'p_s4_t249.TIF', 'p_s4_t25.TIF', 'p_s4_t250.TIF', 'p_s4_t251.TIF', 'p_s4_t252.TIF', 'p_s4_t253.TIF', 'p_s4_t254.TIF', 'p_s4_t255.TIF', 'p_s4_t256.TIF', 'p_s4_t257.TIF', 'p_s4_t258.TIF', 'p_s4_t259.TIF', 'p_s4_t26.TIF', 'p_s4_t260.TIF', 'p_s4_t261.TIF', 'p_s4_t262.TIF', 'p_s4_t263.TIF', 'p_s4_t264.TIF', 'p_s4_t265.TIF', 'p_s4_t266.TIF', 'p_s4_t267.TIF', 'p_s4_t268.TIF', 'p_s4_t269.TIF', 'p_s4_t27.TIF', 'p_s4_t270.TIF', 'p_s4_t271.TIF', 'p_s4_t272.TIF', 'p_s4_t273.TIF', 'p_s4_t274.TIF', 'p_s4_t275.TIF', 'p_s4_t276.TIF', 'p_s4_t277.TIF', 'p_s4_t278.TIF', 'p_s4_t279.TIF', 'p_s4_t28.TIF', 'p_s4_t280.TIF', 'p_s4_t281.TIF', 'p_s4_t282.TIF', 'p_s4_t283.TIF', 'p_s4_t284.TIF', 'p_s4_t285.TIF', 'p_s4_t286.TIF', 'p_s4_t287.TIF', 'p_s4_t288.TIF', 'p_s4_t289.TIF', 'p_s4_t29.TIF', 'p_s4_t3.TIF', 'p_s4_t30.TIF', 'p_s4_t31.TIF', 'p_s4_t32.TIF', 'p_s4_t33.TIF', 'p_s4_t34.TIF', 'p_s4_t35.TIF', 'p_s4_t36.TIF', 'p_s4_t37.TIF', 'p_s4_t38.TIF', 'p_s4_t39.TIF', 'p_s4_t4.TIF', 'p_s4_t40.TIF', 'p_s4_t41.TIF', 'p_s4_t42.TIF', 'p_s4_t43.TIF', 'p_s4_t44.TIF', 'p_s4_t45.TIF', 'p_s4_t46.TIF', 'p_s4_t47.TIF', 'p_s4_t48.TIF', 'p_s4_t49.TIF', 'p_s4_t5.TIF', 'p_s4_t50.TIF', 'p_s4_t51.TIF', 'p_s4_t52.TIF', 'p_s4_t53.TIF', 'p_s4_t54.TIF', 'p_s4_t55.TIF', 'p_s4_t56.TIF', 'p_s4_t57.TIF', 'p_s4_t58.TIF', 'p_s4_t59.TIF', 'p_s4_t6.TIF', 'p_s4_t60.TIF', 'p_s4_t61.TIF', 'p_s4_t62.TIF', 'p_s4_t63.TIF', 'p_s4_t64.TIF', 'p_s4_t65.TIF', 'p_s4_t66.TIF', 'p_s4_t67.TIF', 'p_s4_t68.TIF', 'p_s4_t69.TIF', 'p_s4_t7.TIF', 'p_s4_t70.TIF', 'p_s4_t71.TIF', 'p_s4_t72.TIF', 'p_s4_t73.TIF', 'p_s4_t74.TIF', 'p_s4_t75.TIF', 'p_s4_t76.TIF', 'p_s4_t77.TIF', 'p_s4_t78.TIF', 'p_s4_t79.TIF', 'p_s4_t8.TIF', 'p_s4_t80.TIF', 'p_s4_t81.TIF', 'p_s4_t82.TIF', 'p_s4_t83.TIF', 'p_s4_t84.TIF', 'p_s4_t85.TIF', 'p_s4_t86.TIF', 'p_s4_t87.TIF', 'p_s4_t88.TIF', 'p_s4_t89.TIF', 'p_s4_t9.TIF', 'p_s4_t90.TIF', 'p_s4_t91.TIF', 'p_s4_t92.TIF', 'p_s4_t93.TIF', 'p_s4_t94.TIF', 'p_s4_t95.TIF', 'p_s4_t96.TIF', 'p_s4_t97.TIF', 'p_s4_t98.TIF', 'p_s4_t99.TIF', 'p_s5_t1.TIF', 'p_s5_t10.TIF', 'p_s5_t100.TIF', 'p_s5_t101.TIF', 'p_s5_t102.TIF', 'p_s5_t103.TIF', 'p_s5_t104.TIF', 'p_s5_t105.TIF', 'p_s5_t106.TIF', 'p_s5_t107.TIF', 'p_s5_t108.TIF', 'p_s5_t109.TIF', 'p_s5_t11.TIF', 'p_s5_t110.TIF', 'p_s5_t111.TIF', 'p_s5_t112.TIF', 'p_s5_t113.TIF', 'p_s5_t114.TIF', 'p_s5_t115.TIF', 'p_s5_t116.TIF', 'p_s5_t117.TIF', 'p_s5_t118.TIF', 'p_s5_t119.TIF', 'p_s5_t12.TIF', 'p_s5_t120.TIF', 'p_s5_t121.TIF', 'p_s5_t122.TIF', 'p_s5_t123.TIF', 'p_s5_t124.TIF', 'p_s5_t125.TIF', 'p_s5_t126.TIF', 'p_s5_t127.TIF', 'p_s5_t128.TIF', 'p_s5_t129.TIF', 'p_s5_t13.TIF', 'p_s5_t130.TIF', 'p_s5_t131.TIF', 'p_s5_t132.TIF', 'p_s5_t133.TIF', 'p_s5_t134.TIF', 'p_s5_t135.TIF', 'p_s5_t136.TIF', 'p_s5_t137.TIF', 'p_s5_t138.TIF', 'p_s5_t139.TIF', 'p_s5_t14.TIF', 'p_s5_t140.TIF', 'p_s5_t141.TIF', 'p_s5_t142.TIF', 'p_s5_t143.TIF', 'p_s5_t144.TIF', 'p_s5_t145.TIF', 'p_s5_t146.TIF', 'p_s5_t147.TIF', 'p_s5_t148.TIF', 'p_s5_t149.TIF', 'p_s5_t15.TIF', 'p_s5_t150.TIF', 'p_s5_t151.TIF', 'p_s5_t152.TIF', 'p_s5_t153.TIF', 'p_s5_t154.TIF', 'p_s5_t155.TIF', 'p_s5_t156.TIF', 'p_s5_t157.TIF', 'p_s5_t158.TIF', 'p_s5_t159.TIF', 'p_s5_t16.TIF', 'p_s5_t160.TIF', 'p_s5_t161.TIF', 'p_s5_t162.TIF', 'p_s5_t163.TIF', 'p_s5_t164.TIF', 'p_s5_t165.TIF', 'p_s5_t166.TIF', 'p_s5_t167.TIF', 'p_s5_t168.TIF', 'p_s5_t169.TIF', 'p_s5_t17.TIF', 'p_s5_t170.TIF', 'p_s5_t171.TIF', 'p_s5_t172.TIF', 'p_s5_t173.TIF', 'p_s5_t174.TIF', 'p_s5_t175.TIF', 'p_s5_t176.TIF', 'p_s5_t177.TIF', 'p_s5_t178.TIF', 'p_s5_t179.TIF', 'p_s5_t18.TIF', 'p_s5_t180.TIF', 'p_s5_t181.TIF', 'p_s5_t182.TIF', 'p_s5_t183.TIF', 'p_s5_t184.TIF', 'p_s5_t185.TIF', 'p_s5_t186.TIF', 'p_s5_t187.TIF', 'p_s5_t188.TIF', 'p_s5_t189.TIF', 'p_s5_t19.TIF', 'p_s5_t190.TIF', 'p_s5_t191.TIF', 'p_s5_t192.TIF', 'p_s5_t193.TIF', 'p_s5_t194.TIF', 'p_s5_t195.TIF', 'p_s5_t196.TIF', 'p_s5_t197.TIF', 'p_s5_t198.TIF', 'p_s5_t199.TIF', 'p_s5_t2.TIF', 'p_s5_t20.TIF', 'p_s5_t200.TIF', 'p_s5_t201.TIF', 'p_s5_t202.TIF', 'p_s5_t203.TIF', 'p_s5_t204.TIF', 'p_s5_t205.TIF', 'p_s5_t206.TIF', 'p_s5_t207.TIF', 'p_s5_t208.TIF', 'p_s5_t209.TIF', 'p_s5_t21.TIF', 'p_s5_t210.TIF', 'p_s5_t211.TIF', 'p_s5_t212.TIF', 'p_s5_t213.TIF', 'p_s5_t214.TIF', 'p_s5_t215.TIF', 'p_s5_t216.TIF', 'p_s5_t217.TIF', 'p_s5_t218.TIF', 'p_s5_t219.TIF', 'p_s5_t22.TIF', 'p_s5_t220.TIF', 'p_s5_t221.TIF', 'p_s5_t222.TIF', 'p_s5_t223.TIF', 'p_s5_t224.TIF', 'p_s5_t225.TIF', 'p_s5_t226.TIF', 'p_s5_t227.TIF', 'p_s5_t228.TIF', 'p_s5_t229.TIF', 'p_s5_t23.TIF', 'p_s5_t230.TIF', 'p_s5_t231.TIF', 'p_s5_t232.TIF', 'p_s5_t233.TIF', 'p_s5_t234.TIF', 'p_s5_t235.TIF', 'p_s5_t236.TIF', 'p_s5_t237.TIF', 'p_s5_t238.TIF', 'p_s5_t239.TIF', 'p_s5_t24.TIF', 'p_s5_t240.TIF', 'p_s5_t241.TIF', 'p_s5_t242.TIF', 'p_s5_t243.TIF', 'p_s5_t244.TIF', 'p_s5_t245.TIF', 'p_s5_t246.TIF', 'p_s5_t247.TIF', 'p_s5_t248.TIF', 'p_s5_t249.TIF', 'p_s5_t25.TIF', 'p_s5_t250.TIF', 'p_s5_t251.TIF', 'p_s5_t252.TIF', 'p_s5_t253.TIF', 'p_s5_t254.TIF', 'p_s5_t255.TIF', 'p_s5_t256.TIF', 'p_s5_t257.TIF', 'p_s5_t258.TIF', 'p_s5_t259.TIF', 'p_s5_t26.TIF', 'p_s5_t260.TIF', 'p_s5_t261.TIF', 'p_s5_t262.TIF', 'p_s5_t263.TIF', 'p_s5_t264.TIF', 'p_s5_t265.TIF', 'p_s5_t266.TIF', 'p_s5_t267.TIF', 'p_s5_t268.TIF', 'p_s5_t269.TIF', 'p_s5_t27.TIF', 'p_s5_t270.TIF', 'p_s5_t271.TIF', 'p_s5_t272.TIF', 'p_s5_t273.TIF', 'p_s5_t274.TIF', 'p_s5_t275.TIF', 'p_s5_t276.TIF', 'p_s5_t277.TIF', 'p_s5_t278.TIF', 'p_s5_t279.TIF', 'p_s5_t28.TIF', 'p_s5_t280.TIF', 'p_s5_t281.TIF', 'p_s5_t282.TIF', 'p_s5_t283.TIF', 'p_s5_t284.TIF', 'p_s5_t285.TIF', 'p_s5_t286.TIF', 'p_s5_t287.TIF', 'p_s5_t288.TIF', 'p_s5_t289.TIF', 'p_s5_t29.TIF', 'p_s5_t3.TIF', 'p_s5_t30.TIF', 'p_s5_t31.TIF', 'p_s5_t32.TIF', 'p_s5_t33.TIF', 'p_s5_t34.TIF', 'p_s5_t35.TIF', 'p_s5_t36.TIF', 'p_s5_t37.TIF', 'p_s5_t38.TIF', 'p_s5_t39.TIF', 'p_s5_t4.TIF', 'p_s5_t40.TIF', 'p_s5_t41.TIF', 'p_s5_t42.TIF', 'p_s5_t43.TIF', 'p_s5_t44.TIF', 'p_s5_t45.TIF', 'p_s5_t46.TIF', 'p_s5_t47.TIF', 'p_s5_t48.TIF', 'p_s5_t49.TIF', 'p_s5_t5.TIF', 'p_s5_t50.TIF', 'p_s5_t51.TIF', 'p_s5_t52.TIF', 'p_s5_t53.TIF', 'p_s5_t54.TIF', 'p_s5_t55.TIF', 'p_s5_t56.TIF', 'p_s5_t57.TIF', 'p_s5_t58.TIF', 'p_s5_t59.TIF', 'p_s5_t6.TIF', 'p_s5_t60.TIF', 'p_s5_t61.TIF', 'p_s5_t62.TIF', 'p_s5_t63.TIF', 'p_s5_t64.TIF', 'p_s5_t65.TIF', 'p_s5_t66.TIF', 'p_s5_t67.TIF', 'p_s5_t68.TIF', 'p_s5_t69.TIF', 'p_s5_t7.TIF', 'p_s5_t70.TIF', 'p_s5_t71.TIF', 'p_s5_t72.TIF', 'p_s5_t73.TIF', 'p_s5_t74.TIF', 'p_s5_t75.TIF', 'p_s5_t76.TIF', 'p_s5_t77.TIF', 'p_s5_t78.TIF', 'p_s5_t79.TIF', 'p_s5_t8.TIF', 'p_s5_t80.TIF', 'p_s5_t81.TIF', 'p_s5_t82.TIF', 'p_s5_t83.TIF', 'p_s5_t84.TIF', 'p_s5_t85.TIF', 'p_s5_t86.TIF', 'p_s5_t87.TIF', 'p_s5_t88.TIF', 'p_s5_t89.TIF', 'p_s5_t9.TIF', 'p_s5_t90.TIF', 'p_s5_t91.TIF', 'p_s5_t92.TIF', 'p_s5_t93.TIF', 'p_s5_t94.TIF', 'p_s5_t95.TIF', 'p_s5_t96.TIF', 'p_s5_t97.TIF', 'p_s5_t98.TIF', 'p_s5_t99.TIF', 'p_s6_t1.TIF', 'p_s6_t10.TIF', 'p_s6_t100.TIF', 'p_s6_t101.TIF', 'p_s6_t102.TIF', 'p_s6_t103.TIF', 'p_s6_t104.TIF', 'p_s6_t105.TIF', 'p_s6_t106.TIF', 'p_s6_t107.TIF', 'p_s6_t108.TIF', 'p_s6_t109.TIF', 'p_s6_t11.TIF', 'p_s6_t110.TIF', 'p_s6_t111.TIF', 'p_s6_t112.TIF', 'p_s6_t113.TIF', 'p_s6_t114.TIF', 'p_s6_t115.TIF', 'p_s6_t116.TIF', 'p_s6_t117.TIF', 'p_s6_t118.TIF', 'p_s6_t119.TIF', 'p_s6_t12.TIF', 'p_s6_t120.TIF', 'p_s6_t121.TIF', 'p_s6_t122.TIF', 'p_s6_t123.TIF', 'p_s6_t124.TIF', 'p_s6_t125.TIF', 'p_s6_t126.TIF', 'p_s6_t127.TIF', 'p_s6_t128.TIF', 'p_s6_t129.TIF', 'p_s6_t13.TIF', 'p_s6_t130.TIF', 'p_s6_t131.TIF', 'p_s6_t132.TIF', 'p_s6_t133.TIF', 'p_s6_t134.TIF', 'p_s6_t135.TIF', 'p_s6_t136.TIF', 'p_s6_t137.TIF', 'p_s6_t138.TIF', 'p_s6_t139.TIF', 'p_s6_t14.TIF', 'p_s6_t140.TIF', 'p_s6_t141.TIF', 'p_s6_t142.TIF', 'p_s6_t143.TIF', 'p_s6_t144.TIF', 'p_s6_t145.TIF', 'p_s6_t146.TIF', 'p_s6_t147.TIF', 'p_s6_t148.TIF', 'p_s6_t149.TIF', 'p_s6_t15.TIF', 'p_s6_t150.TIF', 'p_s6_t151.TIF', 'p_s6_t152.TIF', 'p_s6_t153.TIF', 'p_s6_t154.TIF', 'p_s6_t155.TIF', 'p_s6_t156.TIF', 'p_s6_t157.TIF', 'p_s6_t158.TIF', 'p_s6_t159.TIF', 'p_s6_t16.TIF', 'p_s6_t160.TIF', 'p_s6_t161.TIF', 'p_s6_t162.TIF', 'p_s6_t163.TIF', 'p_s6_t164.TIF', 'p_s6_t165.TIF', 'p_s6_t166.TIF', 'p_s6_t167.TIF', 'p_s6_t168.TIF', 'p_s6_t169.TIF', 'p_s6_t17.TIF', 'p_s6_t170.TIF', 'p_s6_t171.TIF', 'p_s6_t172.TIF', 'p_s6_t173.TIF', 'p_s6_t174.TIF', 'p_s6_t175.TIF', 'p_s6_t176.TIF', 'p_s6_t177.TIF', 'p_s6_t178.TIF', 'p_s6_t179.TIF', 'p_s6_t18.TIF', 'p_s6_t180.TIF', 'p_s6_t181.TIF', 'p_s6_t182.TIF', 'p_s6_t183.TIF', 'p_s6_t184.TIF', 'p_s6_t185.TIF', 'p_s6_t186.TIF', 'p_s6_t187.TIF', 'p_s6_t188.TIF', 'p_s6_t189.TIF', 'p_s6_t19.TIF', 'p_s6_t190.TIF', 'p_s6_t191.TIF', 'p_s6_t192.TIF', 'p_s6_t193.TIF', 'p_s6_t194.TIF', 'p_s6_t195.TIF', 'p_s6_t196.TIF', 'p_s6_t197.TIF', 'p_s6_t198.TIF', 'p_s6_t199.TIF', 'p_s6_t2.TIF', 'p_s6_t20.TIF', 'p_s6_t200.TIF', 'p_s6_t201.TIF', 'p_s6_t202.TIF', 'p_s6_t203.TIF', 'p_s6_t204.TIF', 'p_s6_t205.TIF', 'p_s6_t206.TIF', 'p_s6_t207.TIF', 'p_s6_t208.TIF', 'p_s6_t209.TIF', 'p_s6_t21.TIF', 'p_s6_t210.TIF', 'p_s6_t211.TIF', 'p_s6_t212.TIF', 'p_s6_t213.TIF', 'p_s6_t214.TIF', 'p_s6_t215.TIF', 'p_s6_t216.TIF', 'p_s6_t217.TIF', 'p_s6_t218.TIF', 'p_s6_t219.TIF', 'p_s6_t22.TIF', 'p_s6_t220.TIF', 'p_s6_t221.TIF', 'p_s6_t222.TIF', 'p_s6_t223.TIF', 'p_s6_t224.TIF', 'p_s6_t225.TIF', 'p_s6_t226.TIF', 'p_s6_t227.TIF', 'p_s6_t228.TIF', 'p_s6_t229.TIF', 'p_s6_t23.TIF', 'p_s6_t230.TIF', 'p_s6_t231.TIF', 'p_s6_t232.TIF', 'p_s6_t233.TIF', 'p_s6_t234.TIF', 'p_s6_t235.TIF', 'p_s6_t236.TIF', 'p_s6_t237.TIF', 'p_s6_t238.TIF', 'p_s6_t239.TIF', 'p_s6_t24.TIF', 'p_s6_t240.TIF', 'p_s6_t241.TIF', 'p_s6_t242.TIF', 'p_s6_t243.TIF', 'p_s6_t244.TIF', 'p_s6_t245.TIF', 'p_s6_t246.TIF', 'p_s6_t247.TIF', 'p_s6_t248.TIF', 'p_s6_t249.TIF', 'p_s6_t25.TIF', 'p_s6_t250.TIF', 'p_s6_t251.TIF', 'p_s6_t252.TIF', 'p_s6_t253.TIF', 'p_s6_t254.TIF', 'p_s6_t255.TIF', 'p_s6_t256.TIF', 'p_s6_t257.TIF', 'p_s6_t258.TIF', 'p_s6_t259.TIF', 'p_s6_t26.TIF', 'p_s6_t260.TIF', 'p_s6_t261.TIF', 'p_s6_t262.TIF', 'p_s6_t263.TIF', 'p_s6_t264.TIF', 'p_s6_t265.TIF', 'p_s6_t266.TIF', 'p_s6_t267.TIF', 'p_s6_t268.TIF', 'p_s6_t269.TIF', 'p_s6_t27.TIF', 'p_s6_t270.TIF', 'p_s6_t271.TIF', 'p_s6_t272.TIF', 'p_s6_t273.TIF', 'p_s6_t274.TIF', 'p_s6_t275.TIF', 'p_s6_t276.TIF', 'p_s6_t277.TIF', 'p_s6_t278.TIF', 'p_s6_t279.TIF', 'p_s6_t28.TIF', 'p_s6_t280.TIF', 'p_s6_t281.TIF', 'p_s6_t282.TIF', 'p_s6_t283.TIF', 'p_s6_t284.TIF', 'p_s6_t285.TIF', 'p_s6_t286.TIF', 'p_s6_t287.TIF', 'p_s6_t288.TIF', 'p_s6_t289.TIF', 'p_s6_t29.TIF', 'p_s6_t3.TIF', 'p_s6_t30.TIF', 'p_s6_t31.TIF', 'p_s6_t32.TIF', 'p_s6_t33.TIF', 'p_s6_t34.TIF', 'p_s6_t35.TIF', 'p_s6_t36.TIF', 'p_s6_t37.TIF', 'p_s6_t38.TIF', 'p_s6_t39.TIF', 'p_s6_t4.TIF', 'p_s6_t40.TIF', 'p_s6_t41.TIF', 'p_s6_t42.TIF', 'p_s6_t43.TIF', 'p_s6_t44.TIF', 'p_s6_t45.TIF', 'p_s6_t46.TIF', 'p_s6_t47.TIF', 'p_s6_t48.TIF', 'p_s6_t49.TIF', 'p_s6_t5.TIF', 'p_s6_t50.TIF', 'p_s6_t51.TIF', 'p_s6_t52.TIF', 'p_s6_t53.TIF', 'p_s6_t54.TIF', 'p_s6_t55.TIF', 'p_s6_t56.TIF', 'p_s6_t57.TIF', 'p_s6_t58.TIF', 'p_s6_t59.TIF', 'p_s6_t6.TIF', 'p_s6_t60.TIF', 'p_s6_t61.TIF', 'p_s6_t62.TIF', 'p_s6_t63.TIF', 'p_s6_t64.TIF', 'p_s6_t65.TIF', 'p_s6_t66.TIF', 'p_s6_t67.TIF', 'p_s6_t68.TIF', 'p_s6_t69.TIF', 'p_s6_t7.TIF', 'p_s6_t70.TIF', 'p_s6_t71.TIF', 'p_s6_t72.TIF', 'p_s6_t73.TIF', 'p_s6_t74.TIF', 'p_s6_t75.TIF', 'p_s6_t76.TIF', 'p_s6_t77.TIF', 'p_s6_t78.TIF', 'p_s6_t79.TIF', 'p_s6_t8.TIF', 'p_s6_t80.TIF', 'p_s6_t81.TIF', 'p_s6_t82.TIF', 'p_s6_t83.TIF', 'p_s6_t84.TIF', 'p_s6_t85.TIF', 'p_s6_t86.TIF', 'p_s6_t87.TIF', 'p_s6_t88.TIF', 'p_s6_t89.TIF', 'p_s6_t9.TIF', 'p_s6_t90.TIF', 'p_s6_t91.TIF', 'p_s6_t92.TIF', 'p_s6_t93.TIF', 'p_s6_t94.TIF', 'p_s6_t95.TIF', 'p_s6_t96.TIF', 'p_s6_t97.TIF', 'p_s6_t98.TIF', 'p_s6_t99.TIF', 'p_s7_t1.TIF', 'p_s7_t10.TIF', 'p_s7_t100.TIF', 'p_s7_t101.TIF', 'p_s7_t102.TIF', 'p_s7_t103.TIF', 'p_s7_t104.TIF', 'p_s7_t105.TIF', 'p_s7_t106.TIF', 'p_s7_t107.TIF', 'p_s7_t108.TIF', 'p_s7_t109.TIF', 'p_s7_t11.TIF', 'p_s7_t110.TIF', 'p_s7_t111.TIF', 'p_s7_t112.TIF', 'p_s7_t113.TIF', 'p_s7_t114.TIF', 'p_s7_t115.TIF', 'p_s7_t116.TIF', 'p_s7_t117.TIF', 'p_s7_t118.TIF', 'p_s7_t119.TIF', 'p_s7_t12.TIF', 'p_s7_t120.TIF', 'p_s7_t121.TIF', 'p_s7_t122.TIF', 'p_s7_t123.TIF', 'p_s7_t124.TIF', 'p_s7_t125.TIF', 'p_s7_t126.TIF', 'p_s7_t127.TIF', 'p_s7_t128.TIF', 'p_s7_t129.TIF', 'p_s7_t13.TIF', 'p_s7_t130.TIF', 'p_s7_t131.TIF', 'p_s7_t132.TIF', 'p_s7_t133.TIF', 'p_s7_t134.TIF', 'p_s7_t135.TIF', 'p_s7_t136.TIF', 'p_s7_t137.TIF', 'p_s7_t138.TIF', 'p_s7_t139.TIF', 'p_s7_t14.TIF', 'p_s7_t140.TIF', 'p_s7_t141.TIF', 'p_s7_t142.TIF', 'p_s7_t143.TIF', 'p_s7_t144.TIF', 'p_s7_t145.TIF', 'p_s7_t146.TIF', 'p_s7_t147.TIF', 'p_s7_t148.TIF', 'p_s7_t149.TIF', 'p_s7_t15.TIF', 'p_s7_t150.TIF', 'p_s7_t151.TIF', 'p_s7_t152.TIF', 'p_s7_t153.TIF', 'p_s7_t154.TIF', 'p_s7_t155.TIF', 'p_s7_t156.TIF', 'p_s7_t157.TIF', 'p_s7_t158.TIF', 'p_s7_t159.TIF', 'p_s7_t16.TIF', 'p_s7_t160.TIF', 'p_s7_t161.TIF', 'p_s7_t162.TIF', 'p_s7_t163.TIF', 'p_s7_t164.TIF', 'p_s7_t165.TIF', 'p_s7_t166.TIF', 'p_s7_t167.TIF', 'p_s7_t168.TIF', 'p_s7_t169.TIF', 'p_s7_t17.TIF', 'p_s7_t170.TIF', 'p_s7_t171.TIF', 'p_s7_t172.TIF', 'p_s7_t173.TIF', 'p_s7_t174.TIF', 'p_s7_t175.TIF', 'p_s7_t176.TIF', 'p_s7_t177.TIF', 'p_s7_t178.TIF', 'p_s7_t179.TIF', 'p_s7_t18.TIF', 'p_s7_t180.TIF', 'p_s7_t181.TIF', 'p_s7_t182.TIF', 'p_s7_t183.TIF', 'p_s7_t184.TIF', 'p_s7_t185.TIF', 'p_s7_t186.TIF', 'p_s7_t187.TIF', 'p_s7_t188.TIF', 'p_s7_t189.TIF', 'p_s7_t19.TIF', 'p_s7_t190.TIF', 'p_s7_t191.TIF', 'p_s7_t192.TIF', 'p_s7_t193.TIF', 'p_s7_t194.TIF', 'p_s7_t195.TIF', 'p_s7_t196.TIF', 'p_s7_t197.TIF', 'p_s7_t198.TIF', 'p_s7_t199.TIF', 'p_s7_t2.TIF', 'p_s7_t20.TIF', 'p_s7_t200.TIF', 'p_s7_t201.TIF', 'p_s7_t202.TIF', 'p_s7_t203.TIF', 'p_s7_t204.TIF', 'p_s7_t205.TIF', 'p_s7_t206.TIF', 'p_s7_t207.TIF', 'p_s7_t208.TIF', 'p_s7_t209.TIF', 'p_s7_t21.TIF', 'p_s7_t210.TIF', 'p_s7_t211.TIF', 'p_s7_t212.TIF', 'p_s7_t213.TIF', 'p_s7_t214.TIF', 'p_s7_t215.TIF', 'p_s7_t216.TIF', 'p_s7_t217.TIF', 'p_s7_t218.TIF', 'p_s7_t219.TIF', 'p_s7_t22.TIF', 'p_s7_t220.TIF', 'p_s7_t221.TIF', 'p_s7_t222.TIF', 'p_s7_t223.TIF', 'p_s7_t224.TIF', 'p_s7_t225.TIF', 'p_s7_t226.TIF', 'p_s7_t227.TIF', 'p_s7_t228.TIF', 'p_s7_t229.TIF', 'p_s7_t23.TIF', 'p_s7_t230.TIF', 'p_s7_t231.TIF', 'p_s7_t232.TIF', 'p_s7_t233.TIF', 'p_s7_t234.TIF', 'p_s7_t235.TIF', 'p_s7_t236.TIF', 'p_s7_t237.TIF', 'p_s7_t238.TIF', 'p_s7_t239.TIF', 'p_s7_t24.TIF', 'p_s7_t240.TIF', 'p_s7_t241.TIF', 'p_s7_t242.TIF', 'p_s7_t243.TIF', 'p_s7_t244.TIF', 'p_s7_t245.TIF', 'p_s7_t246.TIF', 'p_s7_t247.TIF', 'p_s7_t248.TIF', 'p_s7_t249.TIF', 'p_s7_t25.TIF', 'p_s7_t250.TIF', 'p_s7_t251.TIF', 'p_s7_t252.TIF', 'p_s7_t253.TIF', 'p_s7_t254.TIF', 'p_s7_t255.TIF', 'p_s7_t256.TIF', 'p_s7_t257.TIF', 'p_s7_t258.TIF', 'p_s7_t259.TIF', 'p_s7_t26.TIF', 'p_s7_t260.TIF', 'p_s7_t261.TIF', 'p_s7_t262.TIF', 'p_s7_t263.TIF', 'p_s7_t264.TIF', 'p_s7_t265.TIF', 'p_s7_t266.TIF', 'p_s7_t267.TIF', 'p_s7_t268.TIF', 'p_s7_t269.TIF', 'p_s7_t27.TIF', 'p_s7_t270.TIF', 'p_s7_t271.TIF', 'p_s7_t272.TIF', 'p_s7_t273.TIF', 'p_s7_t274.TIF', 'p_s7_t275.TIF', 'p_s7_t276.TIF', 'p_s7_t277.TIF', 'p_s7_t278.TIF', 'p_s7_t279.TIF', 'p_s7_t28.TIF', 'p_s7_t280.TIF', 'p_s7_t281.TIF', 'p_s7_t282.TIF', 'p_s7_t283.TIF', 'p_s7_t284.TIF', 'p_s7_t285.TIF', 'p_s7_t286.TIF', 'p_s7_t287.TIF', 'p_s7_t288.TIF', 'p_s7_t289.TIF', 'p_s7_t29.TIF', 'p_s7_t3.TIF', 'p_s7_t30.TIF', 'p_s7_t31.TIF', 'p_s7_t32.TIF', 'p_s7_t33.TIF', 'p_s7_t34.TIF', 'p_s7_t35.TIF', 'p_s7_t36.TIF', 'p_s7_t37.TIF', 'p_s7_t38.TIF', 'p_s7_t39.TIF', 'p_s7_t4.TIF', 'p_s7_t40.TIF', 'p_s7_t41.TIF', 'p_s7_t42.TIF', 'p_s7_t43.TIF', 'p_s7_t44.TIF', 'p_s7_t45.TIF', 'p_s7_t46.TIF', 'p_s7_t47.TIF', 'p_s7_t48.TIF', 'p_s7_t49.TIF', 'p_s7_t5.TIF', 'p_s7_t50.TIF', 'p_s7_t51.TIF', 'p_s7_t52.TIF', 'p_s7_t53.TIF', 'p_s7_t54.TIF', 'p_s7_t55.TIF', 'p_s7_t56.TIF', 'p_s7_t57.TIF', 'p_s7_t58.TIF', 'p_s7_t59.TIF', 'p_s7_t6.TIF', 'p_s7_t60.TIF', 'p_s7_t61.TIF', 'p_s7_t62.TIF', 'p_s7_t63.TIF', 'p_s7_t64.TIF', 'p_s7_t65.TIF', 'p_s7_t66.TIF', 'p_s7_t67.TIF', 'p_s7_t68.TIF', 'p_s7_t69.TIF', 'p_s7_t7.TIF', 'p_s7_t70.TIF', 'p_s7_t71.TIF', 'p_s7_t72.TIF', 'p_s7_t73.TIF', 'p_s7_t74.TIF', 'p_s7_t75.TIF', 'p_s7_t76.TIF', 'p_s7_t77.TIF', 'p_s7_t78.TIF', 'p_s7_t79.TIF', 'p_s7_t8.TIF', 'p_s7_t80.TIF', 'p_s7_t81.TIF', 'p_s7_t82.TIF', 'p_s7_t83.TIF', 'p_s7_t84.TIF', 'p_s7_t85.TIF', 'p_s7_t86.TIF', 'p_s7_t87.TIF', 'p_s7_t88.TIF', 'p_s7_t89.TIF', 'p_s7_t9.TIF', 'p_s7_t90.TIF', 'p_s7_t91.TIF', 'p_s7_t92.TIF', 'p_s7_t93.TIF', 'p_s7_t94.TIF', 'p_s7_t95.TIF', 'p_s7_t96.TIF', 'p_s7_t97.TIF', 'p_s7_t98.TIF', 'p_s7_t99.TIF', '.ipynb_checkpoints\\\\p_s1_t3-checkpoint.TIF']\n",
      "Error in segmentation or uploading: output dir optotaxisbucket/movie_segmentation/2024.6.27 OptoPLC FN+Peg Test 3/segmentation_output_masks/Nucleus incomplete (expected 2024 objects but got 2023, please run file prep and segmentation cells again to ensure output integrity\n",
      "Error: segmentation was not complete. Please run file prep and segmentation cells again to ensure output integrity\n"
     ]
    }
   ],
   "source": [
    "#verify destination file integrity\n",
    "#NOTE that this only compares the *number* of input files to the *number* of output files;\n",
    "#filename mishaps could break this, as could errors when uploading the input files themselves.\n",
    "original_files = !gsutil ls -r \"gs://{gcp_segmentation_images}\"\n",
    "original_files = [os.path.relpath(x,f\"gs://{gcp_segmentation_images}\") for x in original_files if x and not x.endswith(('.flag','.nd','.zip',':'))];\n",
    "# print(original_files);\n",
    "\n",
    "#check output folder integrity\n",
    "for d in progress_bar(output_dirs):\n",
    "    c = !gsutil ls -r \"gs://{gcp_segmentation_output_masks/os.path.basename(d)}\"\n",
    "    # print(c);\n",
    "    if c[0].startswith('CommandException'):\n",
    "        c = [];\n",
    "    c = [x for x in c if x and not x.endswith((':','.flag','.zip','.nd')) and os.path.relpath(x,f\"gs://{gcp_segmentation_output_masks/os.path.basename(d)}\") in original_files];\n",
    "    if len(c) < total_files:\n",
    "        stitching_complete = False;\n",
    "        relc = [os.path.relpath(x,f\"gs://{gcp_segmentation_output_masks/os.path.basename(d)}\") for x in c]\n",
    "        print(total_files,len(original_files))\n",
    "        remaining = [x for x in original_files if not x in relc]\n",
    "        files = get_image_files_recursively(local_segmentation_images);\n",
    "        remaining_2 = [os.path.relpath(x,local_segmentation_images) for x in files if not os.path.relpath(x,local_segmentation_images) in relc]\n",
    "        print(list(zip(relc,remaining_2))[:20])\n",
    "        # remaining = [x for x in original_files if not os.path.relpath(x,local_segmentation_output_masks/os.path.basename(d)) in c]\n",
    "        print(remaining_2)\n",
    "        if process_logging: logging.error(f\"Error in segmentation or uploading: output dir {gcp_segmentation_output_masks/os.path.basename(d)} incomplete (expected {total_files} objects but got {len(c)}, please run file prep and segmentation cells again to ensure output integrity\");\n",
    "        print(f\"Error in segmentation or uploading: output dir {gcp_segmentation_output_masks/os.path.basename(d)} incomplete (expected {total_files} objects but got {len(c)}, please run file prep and segmentation cells again to ensure output integrity\");\n",
    "#check zip file integrity, if applicable\n",
    "if zip_output:\n",
    "    ziplist = !gsutil ls -r \"gs://{gcp_segmentation_output_masks}\"\n",
    "    ziplist = [os.path.basename(x) for x in ziplist if x.endswith('.zip')];\n",
    "    for d in output_dirs:\n",
    "        if d.with_suffix('.zip').name not in ziplist:\n",
    "            stitching_complete = False;\n",
    "            if process_logging: logging.error(f\"Error in segmentation or uploading: output zip file {d.with_suffix('.zip').name} missing from output directory. Please run file prep and segmentation cells again to ensure output integrity\");\n",
    "            print(f\"Error in segmentation or uploading: output zip file {d.with_suffix('.zip').name} missing from output directory. Please run file prep and segmentation cells again to ensure output integrity\")\n",
    "if stitching_complete:\n",
    "    if logging: logging.debug(\"Segmentation successful! Output file integrity verified.\");\n",
    "    print(\"Segmentation successful! Output file integrity verified.\")\n",
    "else:\n",
    "    print(\"Error: segmentation was not complete. Please run file prep and segmentation cells again to ensure output integrity\");"
   ]
  },
  {
   "cell_type": "code",
   "execution_count": 77,
   "metadata": {},
   "outputs": [
    {
     "data": {
      "text/plain": [
       "'optotaxisbucket/movie_segmentation/2024.6.27 OptoPLC FN+Peg Test 3/segmentation_output_masks'"
      ]
     },
     "execution_count": 77,
     "metadata": {},
     "output_type": "execute_result"
    }
   ],
   "source": [
    "str(gcp_segmentation_output_masks)"
   ]
  },
  {
   "cell_type": "code",
   "execution_count": 78,
   "metadata": {},
   "outputs": [],
   "source": [
    "if stitching_complete:\n",
    "    cleardir(GCP_transfer_folder)"
   ]
  },
  {
   "cell_type": "code",
   "execution_count": null,
   "metadata": {},
   "outputs": [],
   "source": []
  },
  {
   "cell_type": "code",
   "execution_count": null,
   "metadata": {},
   "outputs": [],
   "source": []
  }
 ],
 "metadata": {
  "colab": {
   "collapsed_sections": [
    "MvFx9gc8x_t8",
    "fhr4J0p_fJnl",
    "7KnHRFG2PORL",
    "g3XGCr8QNsKV"
   ],
   "name": "segmentation_1_class_cell_indiv_tiff_context_splitting_gsutil_external_processing.ipynb",
   "provenance": []
  },
  "environment": {
   "kernel": "python3",
   "name": "pytorch-gpu.1-10.m90",
   "type": "gcloud",
   "uri": "gcr.io/deeplearning-platform-release/pytorch-gpu.1-10:m90"
  },
  "kernelspec": {
   "display_name": "segmentation",
   "language": "python",
   "name": "python3"
  },
  "language_info": {
   "codemirror_mode": {
    "name": "ipython",
    "version": 3
   },
   "file_extension": ".py",
   "mimetype": "text/x-python",
   "name": "python",
   "nbconvert_exporter": "python",
   "pygments_lexer": "ipython3",
   "version": "3.11.11"
  },
  "toc-autonumbering": false,
  "toc-showmarkdowntxt": false,
  "toc-showtags": false
 },
 "nbformat": 4,
 "nbformat_minor": 4
}
